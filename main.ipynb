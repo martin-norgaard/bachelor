{
 "cells": [
  {
   "cell_type": "markdown",
   "metadata": {},
   "source": [
    "# Setup"
   ]
  },
  {
   "cell_type": "code",
   "execution_count": 1,
   "metadata": {},
   "outputs": [],
   "source": [
    "from IPython.display import display\n",
    "import numpy as np\n",
    "import pandas as pd"
   ]
  },
  {
   "cell_type": "markdown",
   "metadata": {},
   "source": [
    "## Settings"
   ]
  },
  {
   "cell_type": "code",
   "execution_count": 2,
   "metadata": {},
   "outputs": [],
   "source": [
    "s1_start = '1984' #Sample 1 start\n",
    "s1_end = '2000' #Sample 1 end\n",
    "s2_start = '2001' #Sample 2 start\n",
    "s2_end = '2016' #Sample 2 end\n"
   ]
  },
  {
   "cell_type": "markdown",
   "metadata": {},
   "source": [
    "# Run Replication"
   ]
  },
  {
   "cell_type": "markdown",
   "metadata": {},
   "source": [
    "## Period 1"
   ]
  },
  {
   "cell_type": "code",
   "execution_count": 3,
   "metadata": {},
   "outputs": [
    {
     "name": "stdout",
     "output_type": "stream",
     "text": [
      "Stored 'start' (str)\n",
      "Stored 'end' (str)\n",
      "Stored 'df_estimates' (DataFrame)\n"
     ]
    }
   ],
   "source": [
    "start = s1_start\n",
    "end = s1_end\n",
    "%store start\n",
    "%store end\n",
    "%run ./replication_martin.ipynb\n",
    "df_estimates_s1 = df_estimates"
   ]
  },
  {
   "cell_type": "markdown",
   "metadata": {},
   "source": [
    "## Period 2"
   ]
  },
  {
   "cell_type": "code",
   "execution_count": 4,
   "metadata": {},
   "outputs": [
    {
     "name": "stdout",
     "output_type": "stream",
     "text": [
      "Stored 'start' (str)\n",
      "Stored 'end' (str)\n",
      "Stored 'df_estimates' (DataFrame)\n"
     ]
    }
   ],
   "source": [
    "start = s2_start\n",
    "end = s2_end\n",
    "%store start\n",
    "%store end\n",
    "%run ./replication_martin.ipynb\n",
    "df_estimates_s2 = df_estimates"
   ]
  },
  {
   "cell_type": "code",
   "execution_count": 5,
   "metadata": {},
   "outputs": [
    {
     "name": "stdout",
     "output_type": "stream",
     "text": [
      "       1984 - 2000\n",
      "Name              \n",
      "beta      0.960119\n",
      "mu        1.078575\n",
      "p         0.035884\n",
      "delta     0.027777\n",
      "alpha     0.243783\n",
      "g_L       0.011706\n",
      "g_Z       0.012980\n",
      "g_Q       0.017692\n",
      "N_bar     0.623442\n",
      "       2001 - 2016\n",
      "Name              \n",
      "beta      0.971810\n",
      "mu        1.298468\n",
      "p         0.066950\n",
      "delta     0.032429\n",
      "alpha     0.142902\n",
      "g_L       0.011013\n",
      "g_Z       0.012980\n",
      "g_Q       0.011267\n",
      "N_bar     0.608375\n"
     ]
    }
   ],
   "source": [
    "print(df_estimates_s1)\n",
    "print(df_estimates_s2)"
   ]
  }
 ],
 "metadata": {
  "kernelspec": {
   "display_name": "Python 3",
   "language": "python",
   "name": "python3"
  },
  "language_info": {
   "codemirror_mode": {
    "name": "ipython",
    "version": 3
   },
   "file_extension": ".py",
   "mimetype": "text/x-python",
   "name": "python",
   "nbconvert_exporter": "python",
   "pygments_lexer": "ipython3",
   "version": "3.7.1"
  }
 },
 "nbformat": 4,
 "nbformat_minor": 2
}
