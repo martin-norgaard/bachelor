{
 "cells": [
  {
   "cell_type": "markdown",
   "metadata": {},
   "source": [
    "# Setup"
   ]
  },
  {
   "cell_type": "code",
   "execution_count": 1,
   "metadata": {},
   "outputs": [],
   "source": [
    "from IPython.display import display\n",
    "import numpy as np\n",
    "import pandas as pd"
   ]
  },
  {
   "cell_type": "markdown",
   "metadata": {},
   "source": [
    "## Settings"
   ]
  },
  {
   "cell_type": "code",
   "execution_count": 9,
   "metadata": {},
   "outputs": [],
   "source": [
    "country = \"UK\"\n",
    "s1_start = '1984' #Sample 1 start\n",
    "s1_end = '2000' #Sample 1 end\n",
    "s2_start = '2001' #Sample 2 start\n",
    "s2_end = '2016' #Sample 2 end"
   ]
  },
  {
   "cell_type": "markdown",
   "metadata": {},
   "source": [
    "# Run Replication"
   ]
  },
  {
   "cell_type": "markdown",
   "metadata": {},
   "source": [
    "## Sample 1"
   ]
  },
  {
   "cell_type": "code",
   "execution_count": 10,
   "metadata": {},
   "outputs": [
    {
     "name": "stdout",
     "output_type": "stream",
     "text": [
      "Stored 'start' (str)\n",
      "Stored 'end' (str)\n",
      "beta       = 0.953469\n",
      "mu         = 1.146507\n",
      "p          = 0.029529\n",
      "delta      = 0.030853\n",
      "alpha      = 0.357382\n",
      "g_L        = 0.002629\n",
      "g_Z        = 0.016778\n",
      "g_Q        = 0.006778\n",
      "N_bar      = 0.488959\n",
      "Stored 'df_estimates' (DataFrame)\n"
     ]
    }
   ],
   "source": [
    "start = s1_start\n",
    "end = s1_end\n",
    "%store start\n",
    "%store end\n",
    "%run ./calibration.ipynb"
   ]
  },
  {
   "cell_type": "code",
   "execution_count": 11,
   "metadata": {},
   "outputs": [],
   "source": [
    "df_estimates_s1 = df_estimates"
   ]
  },
  {
   "cell_type": "markdown",
   "metadata": {},
   "source": [
    "## Sample 2"
   ]
  },
  {
   "cell_type": "code",
   "execution_count": 12,
   "metadata": {},
   "outputs": [
    {
     "name": "stdout",
     "output_type": "stream",
     "text": [
      "Stored 'start' (str)\n",
      "Stored 'end' (str)\n",
      "beta       = 0.968215\n",
      "mu         = 1.172300\n",
      "p          = 0.074540\n",
      "delta      = 0.039073\n",
      "alpha      = 0.300462\n",
      "g_L        = 0.006818\n",
      "g_Z        = 0.007149\n",
      "g_Q        = 0.004109\n",
      "N_bar      = 0.514776\n",
      "Stored 'df_estimates' (DataFrame)\n"
     ]
    }
   ],
   "source": [
    "start = s2_start\n",
    "end = s2_end\n",
    "%store start\n",
    "%store end\n",
    "%run ./calibration.ipynb\n",
    "#join dataframes\n",
    "estimates = df_estimates_s1.join(df_estimates)"
   ]
  },
  {
   "cell_type": "code",
   "execution_count": 13,
   "metadata": {},
   "outputs": [],
   "source": [
    "#Calculate change between to periods\n",
    "estimates['Difference'] = estimates[str(s2_start) + ' - ' + str(s2_end)] - estimates[str(s1_start) + ' - ' + str(s1_end)]"
   ]
  },
  {
   "cell_type": "code",
   "execution_count": 14,
   "metadata": {},
   "outputs": [
    {
     "data": {
      "text/html": [
       "<div>\n",
       "<style scoped>\n",
       "    .dataframe tbody tr th:only-of-type {\n",
       "        vertical-align: middle;\n",
       "    }\n",
       "\n",
       "    .dataframe tbody tr th {\n",
       "        vertical-align: top;\n",
       "    }\n",
       "\n",
       "    .dataframe thead th {\n",
       "        text-align: right;\n",
       "    }\n",
       "</style>\n",
       "<table border=\"1\" class=\"dataframe\">\n",
       "  <thead>\n",
       "    <tr style=\"text-align: right;\">\n",
       "      <th></th>\n",
       "      <th>1984 - 2000</th>\n",
       "      <th>2001 - 2016</th>\n",
       "      <th>Difference</th>\n",
       "    </tr>\n",
       "    <tr>\n",
       "      <th>Name</th>\n",
       "      <th></th>\n",
       "      <th></th>\n",
       "      <th></th>\n",
       "    </tr>\n",
       "  </thead>\n",
       "  <tbody>\n",
       "    <tr>\n",
       "      <th>r_star</th>\n",
       "      <td>0.070126</td>\n",
       "      <td>0.051934</td>\n",
       "      <td>-0.018192</td>\n",
       "    </tr>\n",
       "    <tr>\n",
       "      <th>beta</th>\n",
       "      <td>0.953469</td>\n",
       "      <td>0.968215</td>\n",
       "      <td>0.014746</td>\n",
       "    </tr>\n",
       "    <tr>\n",
       "      <th>mu</th>\n",
       "      <td>1.146507</td>\n",
       "      <td>1.172300</td>\n",
       "      <td>0.025792</td>\n",
       "    </tr>\n",
       "    <tr>\n",
       "      <th>p</th>\n",
       "      <td>0.029529</td>\n",
       "      <td>0.074540</td>\n",
       "      <td>0.045010</td>\n",
       "    </tr>\n",
       "    <tr>\n",
       "      <th>delta</th>\n",
       "      <td>0.030853</td>\n",
       "      <td>0.039073</td>\n",
       "      <td>0.008221</td>\n",
       "    </tr>\n",
       "    <tr>\n",
       "      <th>alpha</th>\n",
       "      <td>0.357382</td>\n",
       "      <td>0.300462</td>\n",
       "      <td>-0.056920</td>\n",
       "    </tr>\n",
       "    <tr>\n",
       "      <th>g_L</th>\n",
       "      <td>0.002629</td>\n",
       "      <td>0.006818</td>\n",
       "      <td>0.004190</td>\n",
       "    </tr>\n",
       "    <tr>\n",
       "      <th>g_Z</th>\n",
       "      <td>0.016778</td>\n",
       "      <td>0.007149</td>\n",
       "      <td>-0.009629</td>\n",
       "    </tr>\n",
       "    <tr>\n",
       "      <th>g_Q</th>\n",
       "      <td>0.006778</td>\n",
       "      <td>0.004109</td>\n",
       "      <td>-0.002669</td>\n",
       "    </tr>\n",
       "    <tr>\n",
       "      <th>N_bar</th>\n",
       "      <td>0.488959</td>\n",
       "      <td>0.514776</td>\n",
       "      <td>0.025817</td>\n",
       "    </tr>\n",
       "  </tbody>\n",
       "</table>\n",
       "</div>"
      ],
      "text/plain": [
       "        1984 - 2000  2001 - 2016  Difference\n",
       "Name                                        \n",
       "r_star     0.070126     0.051934   -0.018192\n",
       "beta       0.953469     0.968215    0.014746\n",
       "mu         1.146507     1.172300    0.025792\n",
       "p          0.029529     0.074540    0.045010\n",
       "delta      0.030853     0.039073    0.008221\n",
       "alpha      0.357382     0.300462   -0.056920\n",
       "g_L        0.002629     0.006818    0.004190\n",
       "g_Z        0.016778     0.007149   -0.009629\n",
       "g_Q        0.006778     0.004109   -0.002669\n",
       "N_bar      0.488959     0.514776    0.025817"
      ]
     },
     "execution_count": 14,
     "metadata": {},
     "output_type": "execute_result"
    }
   ],
   "source": [
    "estimates"
   ]
  },
  {
   "cell_type": "markdown",
   "metadata": {},
   "source": [
    "Note: r_star is what is actually fitted in the model, but is it only used to calculate beta. I have included it below, but we should probably discard it at some point. Or – unlike FG, report it as a result of the model."
   ]
  },
  {
   "cell_type": "markdown",
   "metadata": {},
   "source": [
    "### MATLAB code for decomposition"
   ]
  },
  {
   "cell_type": "markdown",
   "metadata": {},
   "source": [
    "Can we imitate this approach? See also Farhi and Gourio p. 178, footnote."
   ]
  },
  {
   "cell_type": "markdown",
   "metadata": {},
   "source": [
    "setparamV2 ;\n",
    "all_params(select_params1) = x1 ; % initial value\n",
    "solvestochsteadystateV2 ;\n",
    "store_baseline = all_results ;\n",
    "\n",
    "storeres = zeros(length(x2),length(all_results)) ;\n",
    "storechange = zeros(length(x2),length(all_results)) ;\n",
    "\n",
    "for i=1:length(x2)\n",
    "    setparamV2 ;\n",
    "    all_params(select_params1) = x1 ; % initial value\n",
    "    all_params(select_params2(i)) = x2(i)  ; % change to final value, one at a time\n",
    "    solvestochsteadystateV2 ;\n",
    "    storeres(i,:) = all_results ;\n",
    "    storechange(i,:) = all_results -  store_baseline ;\n",
    "end"
   ]
  }
 ],
 "metadata": {
  "kernelspec": {
   "display_name": "Python 3",
   "language": "python",
   "name": "python3"
  },
  "language_info": {
   "codemirror_mode": {
    "name": "ipython",
    "version": 3
   },
   "file_extension": ".py",
   "mimetype": "text/x-python",
   "name": "python",
   "nbconvert_exporter": "python",
   "pygments_lexer": "ipython3",
   "version": "3.7.1"
  }
 },
 "nbformat": 4,
 "nbformat_minor": 2
}
