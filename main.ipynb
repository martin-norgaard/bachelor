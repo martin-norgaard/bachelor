{
 "cells": [
  {
   "cell_type": "markdown",
   "metadata": {},
   "source": [
    "# Setup"
   ]
  },
  {
   "cell_type": "code",
   "execution_count": 1,
   "metadata": {},
   "outputs": [],
   "source": [
    "from IPython.display import display\n",
    "import numpy as np\n",
    "import pandas as pd"
   ]
  },
  {
   "cell_type": "markdown",
   "metadata": {},
   "source": [
    "## Settings"
   ]
  },
  {
   "cell_type": "code",
   "execution_count": 2,
   "metadata": {},
   "outputs": [],
   "source": [
    "s1_start = '1984' #Sample 1 start\n",
    "s1_end = '2000' #Sample 1 end\n",
    "s2_start = '2001' #Sample 2 start\n",
    "s2_end = '2016' #Sample 2 end"
   ]
  },
  {
   "cell_type": "markdown",
   "metadata": {},
   "source": [
    "# Run Replication"
   ]
  },
  {
   "cell_type": "markdown",
   "metadata": {},
   "source": [
    "## Sample 1"
   ]
  },
  {
   "cell_type": "code",
   "execution_count": 3,
   "metadata": {},
   "outputs": [
    {
     "name": "stdout",
     "output_type": "stream",
     "text": [
      "Stored 'start' (str)\n",
      "Stored 'end' (str)\n",
      "Stored 'df_estimates' (DataFrame)\n"
     ]
    }
   ],
   "source": [
    "start = s1_start\n",
    "end = s1_end\n",
    "%store start\n",
    "%store end\n",
    "%run ./replication_martin.ipynb"
   ]
  },
  {
   "cell_type": "code",
   "execution_count": 4,
   "metadata": {},
   "outputs": [],
   "source": [
    "df_estimates_s1 = df_estimates"
   ]
  },
  {
   "cell_type": "markdown",
   "metadata": {},
   "source": [
    "## Sample 2"
   ]
  },
  {
   "cell_type": "code",
   "execution_count": 5,
   "metadata": {},
   "outputs": [
    {
     "name": "stdout",
     "output_type": "stream",
     "text": [
      "Stored 'start' (str)\n",
      "Stored 'end' (str)\n",
      "Stored 'df_estimates' (DataFrame)\n"
     ]
    }
   ],
   "source": [
    "start = s2_start\n",
    "end = s2_end\n",
    "%store start\n",
    "%store end\n",
    "%run ./replication_martin.ipynb\n",
    "#join dataframes\n",
    "estimates = df_estimates_s1.join(df_estimates)"
   ]
  },
  {
   "cell_type": "code",
   "execution_count": 6,
   "metadata": {},
   "outputs": [],
   "source": [
    "#Calculate change between to periods\n",
    "estimates['Difference'] = estimates[str(s2_start) + ' - ' + str(s2_end)] - estimates[str(s1_start) + ' - ' + str(s1_end)]"
   ]
  },
  {
   "cell_type": "code",
   "execution_count": 7,
   "metadata": {},
   "outputs": [
    {
     "data": {
      "text/html": [
       "<div>\n",
       "<style scoped>\n",
       "    .dataframe tbody tr th:only-of-type {\n",
       "        vertical-align: middle;\n",
       "    }\n",
       "\n",
       "    .dataframe tbody tr th {\n",
       "        vertical-align: top;\n",
       "    }\n",
       "\n",
       "    .dataframe thead th {\n",
       "        text-align: right;\n",
       "    }\n",
       "</style>\n",
       "<table border=\"1\" class=\"dataframe\">\n",
       "  <thead>\n",
       "    <tr style=\"text-align: right;\">\n",
       "      <th></th>\n",
       "      <th>1984 - 2000</th>\n",
       "      <th>2001 - 2016</th>\n",
       "      <th>Difference</th>\n",
       "    </tr>\n",
       "    <tr>\n",
       "      <th>Name</th>\n",
       "      <th></th>\n",
       "      <th></th>\n",
       "      <th></th>\n",
       "    </tr>\n",
       "  </thead>\n",
       "  <tbody>\n",
       "    <tr>\n",
       "      <th>beta</th>\n",
       "      <td>0.960119</td>\n",
       "      <td>0.971810</td>\n",
       "      <td>0.011691</td>\n",
       "    </tr>\n",
       "    <tr>\n",
       "      <th>mu</th>\n",
       "      <td>1.078575</td>\n",
       "      <td>1.146136</td>\n",
       "      <td>0.067561</td>\n",
       "    </tr>\n",
       "    <tr>\n",
       "      <th>p</th>\n",
       "      <td>0.035884</td>\n",
       "      <td>0.066950</td>\n",
       "      <td>0.031066</td>\n",
       "    </tr>\n",
       "    <tr>\n",
       "      <th>delta</th>\n",
       "      <td>0.027777</td>\n",
       "      <td>0.032429</td>\n",
       "      <td>0.004652</td>\n",
       "    </tr>\n",
       "    <tr>\n",
       "      <th>alpha</th>\n",
       "      <td>0.243783</td>\n",
       "      <td>0.243454</td>\n",
       "      <td>-0.000329</td>\n",
       "    </tr>\n",
       "    <tr>\n",
       "      <th>g_L</th>\n",
       "      <td>0.011706</td>\n",
       "      <td>0.011013</td>\n",
       "      <td>-0.000693</td>\n",
       "    </tr>\n",
       "    <tr>\n",
       "      <th>g_Z</th>\n",
       "      <td>0.012980</td>\n",
       "      <td>0.010120</td>\n",
       "      <td>-0.002860</td>\n",
       "    </tr>\n",
       "    <tr>\n",
       "      <th>g_Q</th>\n",
       "      <td>0.017692</td>\n",
       "      <td>0.011267</td>\n",
       "      <td>-0.006426</td>\n",
       "    </tr>\n",
       "    <tr>\n",
       "      <th>N_bar</th>\n",
       "      <td>0.623442</td>\n",
       "      <td>0.608375</td>\n",
       "      <td>-0.015066</td>\n",
       "    </tr>\n",
       "  </tbody>\n",
       "</table>\n",
       "</div>"
      ],
      "text/plain": [
       "       1984 - 2000  2001 - 2016  Difference\n",
       "Name                                       \n",
       "beta      0.960119     0.971810    0.011691\n",
       "mu        1.078575     1.146136    0.067561\n",
       "p         0.035884     0.066950    0.031066\n",
       "delta     0.027777     0.032429    0.004652\n",
       "alpha     0.243783     0.243454   -0.000329\n",
       "g_L       0.011706     0.011013   -0.000693\n",
       "g_Z       0.012980     0.010120   -0.002860\n",
       "g_Q       0.017692     0.011267   -0.006426\n",
       "N_bar     0.623442     0.608375   -0.015066"
      ]
     },
     "execution_count": 7,
     "metadata": {},
     "output_type": "execute_result"
    }
   ],
   "source": [
    "estimates"
   ]
  },
  {
   "cell_type": "markdown",
   "metadata": {},
   "source": [
    "### MATLAB code for decomposition"
   ]
  },
  {
   "cell_type": "markdown",
   "metadata": {},
   "source": [
    "Can we imitate this approach? See also Farhi and Gourio p. 178, footnote."
   ]
  },
  {
   "cell_type": "markdown",
   "metadata": {},
   "source": [
    "setparamV2 ;\n",
    "all_params(select_params1) = x1 ; % initial value\n",
    "solvestochsteadystateV2 ;\n",
    "store_baseline = all_results ;\n",
    "\n",
    "storeres = zeros(length(x2),length(all_results)) ;\n",
    "storechange = zeros(length(x2),length(all_results)) ;\n",
    "\n",
    "for i=1:length(x2)\n",
    "    setparamV2 ;\n",
    "    all_params(select_params1) = x1 ; % initial value\n",
    "    all_params(select_params2(i)) = x2(i)  ; % change to final value, one at a time\n",
    "    solvestochsteadystateV2 ;\n",
    "    storeres(i,:) = all_results ;\n",
    "    storechange(i,:) = all_results -  store_baseline ;\n",
    "end"
   ]
  }
 ],
 "metadata": {
  "kernelspec": {
   "display_name": "Python 3",
   "language": "python",
   "name": "python3"
  },
  "language_info": {
   "codemirror_mode": {
    "name": "ipython",
    "version": 3
   },
   "file_extension": ".py",
   "mimetype": "text/x-python",
   "name": "python",
   "nbconvert_exporter": "python",
   "pygments_lexer": "ipython3",
   "version": "3.7.1"
  }
 },
 "nbformat": 4,
 "nbformat_minor": 2
}
