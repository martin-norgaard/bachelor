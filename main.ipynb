{
 "cells": [
  {
   "cell_type": "markdown",
   "metadata": {},
   "source": [
    "# Setup"
   ]
  },
  {
   "cell_type": "code",
   "execution_count": 1,
   "metadata": {},
   "outputs": [
    {
     "name": "stdout",
     "output_type": "stream",
     "text": [
      "Requirement already satisfied: tabulate in /Applications/anaconda3/lib/python3.7/site-packages (0.8.5)\n"
     ]
    }
   ],
   "source": [
    "from IPython.display import display\n",
    "import numpy as np\n",
    "import pandas as pd\n",
    "!pip install tabulate\n",
    "from tabulate import tabulate"
   ]
  },
  {
   "cell_type": "markdown",
   "metadata": {},
   "source": [
    "## Settings"
   ]
  },
  {
   "cell_type": "code",
   "execution_count": 2,
   "metadata": {},
   "outputs": [],
   "source": [
    "country = \"UK\"\n",
    "s1_start = '1984' #Sample 1 start\n",
    "s1_end = '2000' #Sample 1 end\n",
    "s2_start = '2001' #Sample 2 start\n",
    "s2_end = '2016' #Sample 2 end\n",
    "show_moments_table = 0\n",
    "write_moments_table_latex = 1\n",
    "\n",
    "\n",
    "### Don't change ###\n",
    "called_from_main = 1"
   ]
  },
  {
   "cell_type": "markdown",
   "metadata": {},
   "source": [
    "# Run Replication"
   ]
  },
  {
   "cell_type": "markdown",
   "metadata": {},
   "source": [
    "## Sample 1"
   ]
  },
  {
   "cell_type": "code",
   "execution_count": 3,
   "metadata": {},
   "outputs": [
    {
     "name": "stdout",
     "output_type": "stream",
     "text": [
      "Stored 'start' (str)\n",
      "Stored 'end' (str)\n",
      "Stored 'df_estimates' (DataFrame)\n"
     ]
    }
   ],
   "source": [
    "start = s1_start\n",
    "end = s1_end\n",
    "%store start\n",
    "%store end\n",
    "%run ./calibration-Martin.ipynb"
   ]
  },
  {
   "cell_type": "code",
   "execution_count": 4,
   "metadata": {},
   "outputs": [],
   "source": [
    "df_estimates_s1 = df_estimates"
   ]
  },
  {
   "cell_type": "markdown",
   "metadata": {},
   "source": [
    "## Sample 2"
   ]
  },
  {
   "cell_type": "code",
   "execution_count": 5,
   "metadata": {},
   "outputs": [
    {
     "name": "stdout",
     "output_type": "stream",
     "text": [
      "Stored 'start' (str)\n",
      "Stored 'end' (str)\n",
      "Stored 'df_estimates' (DataFrame)\n"
     ]
    }
   ],
   "source": [
    "start = s2_start\n",
    "end = s2_end\n",
    "%store start\n",
    "%store end\n",
    "%run ./calibration.ipynb\n",
    "#join dataframes\n",
    "estimates = df_estimates_s1.join(df_estimates)"
   ]
  },
  {
   "cell_type": "code",
   "execution_count": null,
   "metadata": {},
   "outputs": [],
   "source": [
    "s1_start = 1984\n",
    "s1_end = 1999\n",
    "s2_start = 2000\n",
    "s2_end = 2015\n",
    "\n",
    "estimates = pd.DataFrame(index=[\"beta\",\"mu\",\"p\",\"delta\",\"alpha\",\"g_L\",\"g_Z\",\"g_Q\",\"N_bar\"])\n",
    "estimates.index.name = \"Name\"\n",
    "estimates[\"1984 - 2000\"] = [0.9661789688229198,\n",
    " 1.2867718634450789,\n",
    " 0.0003965916768160032,\n",
    " 0.015236364960121398,\n",
    " 0.2708253765638495,\n",
    " 0.0024846114805046476,\n",
    " 0.021805320070131286,\n",
    " 0.014933480157711017,\n",
    " 0.5068281318647472]\n",
    "estimates[\"2001 - 2016\"] = [0.9775996237198371,\n",
    " 1.2507990280037529,\n",
    " 0.029463902896909158,\n",
    " 0.06502781159477312,\n",
    " 0.30583815939065334,\n",
    " 0.004172918217518351,\n",
    " 0.004729674239277312,\n",
    " 0.004366195578869295,\n",
    " 0.5109157995153115]"
   ]
  },
  {
   "cell_type": "code",
   "execution_count": 6,
   "metadata": {},
   "outputs": [],
   "source": [
    "#Prepare estimates table\n",
    "estimates_formatted = estimates.copy()\n",
    "\n",
    "for var in [\"delta\",\"g_L\",\"g_Z\",\"g_Q\"]:\n",
    "    estimates_formatted.loc[var] = estimates_formatted.loc[var]*100\n",
    "\n",
    "estimates_formatted = estimates_formatted.reset_index(drop=True)\n",
    "estimates_formatted['Parameter name'] = [\"Discount factor\",\"Mark-up\",\"Disaster probability\",\"Depreciation, pct.\",\"Cobb-Douglas parameter\",\"Population growth, pct.\",\"TFP growth, pct.\",\"Technological change, pct.\",\"Labour Supply\"]\n",
    "estimates_formatted['Symbol'] = [\"$\\\\beta$\",\"$\\\\mu$\",\"$p$\",\"$\\\\delta$\",\"$\\\\alpha$\",\"$g_L$\",\"$g_Z$\",\"$g_Q$\",\"$\\\\bar{N}$\"]\n",
    "estimates_formatted['Difference'] = estimates_formatted[str(s2_start) + ' - ' + str(s2_end)] - estimates_formatted[str(s1_start) + ' - ' + str(s1_end)]\n",
    "estimates_formatted = estimates_formatted[[\"Parameter name\",\"Symbol\",str(s1_start) + ' - ' + str(s1_end), str(s2_start) + ' - ' + str(s2_end),\"Difference\"]]\n",
    "\n",
    "for var in estimates_formatted.columns.tolist()[2:]:\n",
    "    estimates_formatted[var] = estimates_formatted[var].map('${:,.3f}$'.format)"
   ]
  },
  {
   "cell_type": "code",
   "execution_count": 9,
   "metadata": {},
   "outputs": [
    {
     "name": "stdout",
     "output_type": "stream",
     "text": [
      "\\begin{tabular}{lcccr}\n",
      "\\toprule\n",
      "& & & \\textit{Estimates} & \\\\ \\cmidrule(lr){3-5}\n",
      "Parameter name & Symbol & 1984 - 2000 & 2001 - 2016 & Change \\\\\n",
      "\\midrule\n",
      " Discount factor            & $\\beta$   & $0.953$ & $0.968$ & $0.015$  \\\\\n",
      " Mark-up                    & $\\mu$     & $1.147$ & $1.172$ & $0.026$  \\\\\n",
      " Disaster probability       & $p$       & $0.030$ & $0.075$ & $0.045$  \\\\\n",
      " Depreciation, pct.         & $\\delta$  & $3.085$ & $3.907$ & $0.822$  \\\\\n",
      " Cobb-Douglas parameter     & $\\alpha$  & $0.357$ & $0.300$ & $-0.057$ \\\\\n",
      " Population growth, pct.    & $g_L$     & $0.263$ & $0.682$ & $0.419$  \\\\\n",
      " TFP growth, pct.           & $g_Z$     & $1.678$ & $0.715$ & $-0.963$ \\\\\n",
      " Technological change, pct. & $g_Q$     & $0.678$ & $0.411$ & $-0.267$ \\\\\n",
      " Labour Supply              & $\\bar{N}$ & $0.489$ & $0.515$ & $0.026$  \\\\\n",
      "\\bottomrule\n",
      "\\end{tabular}\n"
     ]
    }
   ],
   "source": [
    "if show_moments_table == 1:\n",
    "    display(estimates_formatted)\n",
    "\n",
    "if write_moments_table_latex == 1:\n",
    "    latex = tabulate(estimates_formatted, showindex=False, tablefmt=\"latex_raw\")\n",
    "\n",
    "    print(\"\\\\begin{tabular}{lcccr}\")\n",
    "    print(\"\\\\toprule\")\n",
    "    print(\"& & & \\\\textit{Estimates} & \\\\\\\\ \\\\cmidrule(lr){3-5}\")\n",
    "    print(\"Parameter name & Symbol & \" + s1_start + \" - \" + s1_end + \" & \" + s2_start + \" - \" + s2_end + \" & Change \\\\\\\\\")\n",
    "    print(\"\\midrule\")\n",
    "    print(latex[30:-21])\n",
    "    print(\"\\\\bottomrule\")\n",
    "    print(\"\\\\end{tabular}\")"
   ]
  },
  {
   "cell_type": "code",
   "execution_count": 8,
   "metadata": {},
   "outputs": [
    {
     "name": "stdout",
     "output_type": "stream",
     "text": [
      "Stored 'estimates' (DataFrame)\n"
     ]
    }
   ],
   "source": [
    "%store estimates"
   ]
  },
  {
   "cell_type": "code",
   "execution_count": null,
   "metadata": {},
   "outputs": [],
   "source": []
  }
 ],
 "metadata": {
  "kernelspec": {
   "display_name": "Python 3",
   "language": "python",
   "name": "python3"
  },
  "language_info": {
   "codemirror_mode": {
    "name": "ipython",
    "version": 3
   },
   "file_extension": ".py",
   "mimetype": "text/x-python",
   "name": "python",
   "nbconvert_exporter": "python",
   "pygments_lexer": "ipython3",
   "version": "3.7.1"
  }
 },
 "nbformat": 4,
 "nbformat_minor": 2
}
