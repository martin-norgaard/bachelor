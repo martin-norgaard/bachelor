{
 "cells": [
  {
   "cell_type": "markdown",
   "metadata": {},
   "source": [
    "# Setup"
   ]
  },
  {
   "cell_type": "code",
   "execution_count": 1,
   "metadata": {},
   "outputs": [
    {
     "name": "stdout",
     "output_type": "stream",
     "text": [
      "Requirement already satisfied: tabulate in /Applications/anaconda3/lib/python3.7/site-packages (0.8.5)\n"
     ]
    }
   ],
   "source": [
    "from IPython.display import display\n",
    "import numpy as np\n",
    "import pandas as pd\n",
    "!pip install tabulate\n",
    "from tabulate import tabulate"
   ]
  },
  {
   "cell_type": "markdown",
   "metadata": {},
   "source": [
    "## Settings"
   ]
  },
  {
   "cell_type": "code",
   "execution_count": 2,
   "metadata": {},
   "outputs": [],
   "source": [
    "country = \"UK\"\n",
    "s1_start = '1984' #Sample 1 start\n",
    "s1_end = '2000' #Sample 1 end\n",
    "s2_start = '2001' #Sample 2 start\n",
    "s2_end = '2016' #Sample 2 end\n",
    "called_from_main = 1"
   ]
  },
  {
   "cell_type": "markdown",
   "metadata": {},
   "source": [
    "# Run Replication"
   ]
  },
  {
   "cell_type": "markdown",
   "metadata": {},
   "source": [
    "## Sample 1"
   ]
  },
  {
   "cell_type": "code",
   "execution_count": 3,
   "metadata": {},
   "outputs": [
    {
     "name": "stdout",
     "output_type": "stream",
     "text": [
      "Stored 'start' (str)\n",
      "Stored 'end' (str)\n",
      "Stored 'df_estimates' (DataFrame)\n"
     ]
    }
   ],
   "source": [
    "start = s1_start\n",
    "end = s1_end\n",
    "%store start\n",
    "%store end\n",
    "%run ./calibration.ipynb"
   ]
  },
  {
   "cell_type": "code",
   "execution_count": 4,
   "metadata": {},
   "outputs": [],
   "source": [
    "df_estimates_s1 = df_estimates"
   ]
  },
  {
   "cell_type": "markdown",
   "metadata": {},
   "source": [
    "## Sample 2"
   ]
  },
  {
   "cell_type": "code",
   "execution_count": 5,
   "metadata": {},
   "outputs": [
    {
     "name": "stdout",
     "output_type": "stream",
     "text": [
      "Stored 'start' (str)\n",
      "Stored 'end' (str)\n",
      "Stored 'df_estimates' (DataFrame)\n"
     ]
    }
   ],
   "source": [
    "start = s2_start\n",
    "end = s2_end\n",
    "%store start\n",
    "%store end\n",
    "%run ./calibration.ipynb\n",
    "#join dataframes\n",
    "estimates = df_estimates_s1.join(df_estimates)"
   ]
  },
  {
   "cell_type": "code",
   "execution_count": 8,
   "metadata": {},
   "outputs": [],
   "source": [
    "#Prepare estimates table\n",
    "estimates_formatted = estimates.copy()\n",
    "\n",
    "for var in [\"delta\",\"g_L\",\"g_Z\",\"g_Q\"]:\n",
    "    estimates_formatted.loc[var] = estimates_formatted.loc[var]*100\n",
    "\n",
    "estimates_formatted = estimates_formatted.reset_index(drop=True)\n",
    "estimates_formatted['Parameter name'] = [\"Discount factor\",\"Mark-up\",\"Disaster probability\",\"Depreciation, pct.\",\"Cobb-Douglas parameter\",\"Population growth, pct.\",\"TFP growth, pct.\",\"Technological change, pct.\",\"Labour Supply\"]\n",
    "estimates_formatted['Symbol'] = [\"$\\\\beta$\",\"$\\\\mu$\",\"$p$\",\"$\\\\delta$\",\"$\\\\alpha$\",\"$g_L$\",\"$g_Z$\",\"$g_Q$\",\"$\\\\bar{N}$\"]\n",
    "estimates_formatted['Difference'] = estimates_formatted[str(s2_start) + ' - ' + str(s2_end)] - estimates_formatted[str(s1_start) + ' - ' + str(s1_end)]\n",
    "estimates_formatted = estimates_formatted[[\"Parameter name\",\"Symbol\",str(s1_start) + ' - ' + str(s1_end), str(s2_start) + ' - ' + str(s2_end),\"Difference\"]]\n",
    "\n",
    "for var in estimates_formatted.columns.tolist()[2:]:\n",
    "    estimates_formatted[var] = estimates_formatted[var].map('${:,.3f}$'.format)"
   ]
  },
  {
   "cell_type": "code",
   "execution_count": 12,
   "metadata": {},
   "outputs": [
    {
     "data": {
      "text/html": [
       "<div>\n",
       "<style scoped>\n",
       "    .dataframe tbody tr th:only-of-type {\n",
       "        vertical-align: middle;\n",
       "    }\n",
       "\n",
       "    .dataframe tbody tr th {\n",
       "        vertical-align: top;\n",
       "    }\n",
       "\n",
       "    .dataframe thead th {\n",
       "        text-align: right;\n",
       "    }\n",
       "</style>\n",
       "<table border=\"1\" class=\"dataframe\">\n",
       "  <thead>\n",
       "    <tr style=\"text-align: right;\">\n",
       "      <th></th>\n",
       "      <th>Parameter name</th>\n",
       "      <th>Symbol</th>\n",
       "      <th>1984 - 2000</th>\n",
       "      <th>2001 - 2016</th>\n",
       "      <th>Difference</th>\n",
       "    </tr>\n",
       "  </thead>\n",
       "  <tbody>\n",
       "    <tr>\n",
       "      <th>0</th>\n",
       "      <td>Discount factor</td>\n",
       "      <td>$\\beta$</td>\n",
       "      <td>$0.953$</td>\n",
       "      <td>$0.968$</td>\n",
       "      <td>$0.015$</td>\n",
       "    </tr>\n",
       "    <tr>\n",
       "      <th>1</th>\n",
       "      <td>Mark-up</td>\n",
       "      <td>$\\mu$</td>\n",
       "      <td>$1.147$</td>\n",
       "      <td>$1.172$</td>\n",
       "      <td>$0.026$</td>\n",
       "    </tr>\n",
       "    <tr>\n",
       "      <th>2</th>\n",
       "      <td>Disaster probability</td>\n",
       "      <td>$p$</td>\n",
       "      <td>$0.030$</td>\n",
       "      <td>$0.075$</td>\n",
       "      <td>$0.045$</td>\n",
       "    </tr>\n",
       "    <tr>\n",
       "      <th>3</th>\n",
       "      <td>Depreciation, pct.</td>\n",
       "      <td>$\\delta$</td>\n",
       "      <td>$3.085$</td>\n",
       "      <td>$3.907$</td>\n",
       "      <td>$0.822$</td>\n",
       "    </tr>\n",
       "    <tr>\n",
       "      <th>4</th>\n",
       "      <td>Cobb-Douglas parameter</td>\n",
       "      <td>$\\alpha$</td>\n",
       "      <td>$0.357$</td>\n",
       "      <td>$0.300$</td>\n",
       "      <td>$-0.057$</td>\n",
       "    </tr>\n",
       "    <tr>\n",
       "      <th>5</th>\n",
       "      <td>Population growth, pct.</td>\n",
       "      <td>$g_L$</td>\n",
       "      <td>$0.263$</td>\n",
       "      <td>$0.682$</td>\n",
       "      <td>$0.419$</td>\n",
       "    </tr>\n",
       "    <tr>\n",
       "      <th>6</th>\n",
       "      <td>TFP growth, pct.</td>\n",
       "      <td>$g_Z$</td>\n",
       "      <td>$1.678$</td>\n",
       "      <td>$0.715$</td>\n",
       "      <td>$-0.963$</td>\n",
       "    </tr>\n",
       "    <tr>\n",
       "      <th>7</th>\n",
       "      <td>Technological change, pct.</td>\n",
       "      <td>$g_Q$</td>\n",
       "      <td>$0.678$</td>\n",
       "      <td>$0.411$</td>\n",
       "      <td>$-0.267$</td>\n",
       "    </tr>\n",
       "    <tr>\n",
       "      <th>8</th>\n",
       "      <td>Labour Supply</td>\n",
       "      <td>$\\bar{N}$</td>\n",
       "      <td>$0.489$</td>\n",
       "      <td>$0.515$</td>\n",
       "      <td>$0.026$</td>\n",
       "    </tr>\n",
       "  </tbody>\n",
       "</table>\n",
       "</div>"
      ],
      "text/plain": [
       "               Parameter name     Symbol 1984 - 2000 2001 - 2016 Difference\n",
       "0             Discount factor    $\\beta$     $0.953$     $0.968$    $0.015$\n",
       "1                     Mark-up      $\\mu$     $1.147$     $1.172$    $0.026$\n",
       "2        Disaster probability        $p$     $0.030$     $0.075$    $0.045$\n",
       "3          Depreciation, pct.   $\\delta$     $3.085$     $3.907$    $0.822$\n",
       "4      Cobb-Douglas parameter   $\\alpha$     $0.357$     $0.300$   $-0.057$\n",
       "5     Population growth, pct.      $g_L$     $0.263$     $0.682$    $0.419$\n",
       "6            TFP growth, pct.      $g_Z$     $1.678$     $0.715$   $-0.963$\n",
       "7  Technological change, pct.      $g_Q$     $0.678$     $0.411$   $-0.267$\n",
       "8               Labour Supply  $\\bar{N}$     $0.489$     $0.515$    $0.026$"
      ]
     },
     "metadata": {},
     "output_type": "display_data"
    },
    {
     "name": "stdout",
     "output_type": "stream",
     "text": [
      "\\begin{tabular}{lcccc}\n",
      "\\toprule\n",
      "& & & \\textit{Estimates} & \\\\ \\cmidrule(lr){3-5}\n",
      "Parameter name & Symbol & 1984 - 2000 & 2001 - 2016 & Difference \\\\\n",
      "\\midrule\n",
      " Discount factor            & $\\beta$   & $0.953$ & $0.968$ & $0.015$  \\\\\n",
      " Mark-up                    & $\\mu$     & $1.147$ & $1.172$ & $0.026$  \\\\\n",
      " Disaster probability       & $p$       & $0.030$ & $0.075$ & $0.045$  \\\\\n",
      " Depreciation, pct.         & $\\delta$  & $3.085$ & $3.907$ & $0.822$  \\\\\n",
      " Cobb-Douglas parameter     & $\\alpha$  & $0.357$ & $0.300$ & $-0.057$ \\\\\n",
      " Population growth, pct.    & $g_L$     & $0.263$ & $0.682$ & $0.419$  \\\\\n",
      " TFP growth, pct.           & $g_Z$     & $1.678$ & $0.715$ & $-0.963$ \\\\\n",
      " Technological change, pct. & $g_Q$     & $0.678$ & $0.411$ & $-0.267$ \\\\\n",
      " Labour Supply              & $\\bar{N}$ & $0.489$ & $0.515$ & $0.026$  \\\\\n",
      "\\bottomrule\n",
      "\\end{tabular}\n"
     ]
    }
   ],
   "source": [
    "display(estimates_formatted)\n",
    "latex = tabulate(estimates_formatted, showindex=False, tablefmt=\"latex_raw\")\n",
    "\n",
    "print(\"\\\\begin{tabular}{lcccc}\")\n",
    "print(\"\\\\toprule\")\n",
    "print(\"& & & \\\\textit{Estimates} & \\\\\\\\ \\\\cmidrule(lr){3-5}\")\n",
    "print(\"Parameter name & Symbol & \" + s1_start + \" - \" + s1_end + \" & \" + s2_start + \" - \" + s2_end + \" & Difference \\\\\\\\\")\n",
    "print(\"\\midrule\")\n",
    "print(latex[30:-21])\n",
    "print(\"\\\\bottomrule\")\n",
    "print(\"\\\\end{tabular}\")"
   ]
  },
  {
   "cell_type": "markdown",
   "metadata": {},
   "source": [
    "Note: r_star is what is actually fitted in the model, but is it only used to calculate beta. I have included it above, but we should probably discard it at some point. Or – unlike FG, report it as a result of the model."
   ]
  },
  {
   "cell_type": "markdown",
   "metadata": {},
   "source": [
    "### MATLAB code for decomposition"
   ]
  },
  {
   "cell_type": "markdown",
   "metadata": {},
   "source": [
    "Can we imitate this approach? See also Farhi and Gourio p. 178, footnote."
   ]
  },
  {
   "cell_type": "markdown",
   "metadata": {},
   "source": [
    "setparamV2 ;\n",
    "all_params(select_params1) = x1 ; % initial value\n",
    "solvestochsteadystateV2 ;\n",
    "store_baseline = all_results ;\n",
    "\n",
    "storeres = zeros(length(x2),length(all_results)) ;\n",
    "storechange = zeros(length(x2),length(all_results)) ;\n",
    "\n",
    "for i=1:length(x2)\n",
    "    setparamV2 ;\n",
    "    all_params(select_params1) = x1 ; % initial value\n",
    "    all_params(select_params2(i)) = x2(i)  ; % change to final value, one at a time\n",
    "    solvestochsteadystateV2 ;\n",
    "    storeres(i,:) = all_results ;\n",
    "    storechange(i,:) = all_results -  store_baseline ;\n",
    "end"
   ]
  }
 ],
 "metadata": {
  "kernelspec": {
   "display_name": "Python 3",
   "language": "python",
   "name": "python3"
  },
  "language_info": {
   "codemirror_mode": {
    "name": "ipython",
    "version": 3
   },
   "file_extension": ".py",
   "mimetype": "text/x-python",
   "name": "python",
   "nbconvert_exporter": "python",
   "pygments_lexer": "ipython3",
   "version": "3.7.1"
  }
 },
 "nbformat": 4,
 "nbformat_minor": 2
}
