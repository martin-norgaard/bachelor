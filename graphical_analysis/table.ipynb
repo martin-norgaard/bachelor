{
 "cells": [
  {
   "cell_type": "code",
   "execution_count": 93,
   "metadata": {},
   "outputs": [
    {
     "name": "stdout",
     "output_type": "stream",
     "text": [
      "\\begin{tabular}{lrrr}\n",
      "\\toprule\n",
      " & \\multicolumn{2}{c}{\\textit{Averages}} &  \\\\ \\cmidrule(lr){2-3} \n",
      " & 1984 - 2000 & 2001 - 2016 & Change \\\\ \n",
      "\\midrule\n",
      " Gross profitability           & $15.260$ & $15.000$ & $-0.260$ \\\\\n",
      " Gross Capital Share           & $43.950$ & $40.328$ & $-3.622$ \\\\\n",
      " Gross Risk Free Interest Rate & $4.202$  & $-0.602$ & $-4.804$ \\\\\n",
      " Population Growth             & $0.263$  & $0.682$  & $0.419$  \\\\\n",
      " Investment Prices Growth      & $-0.678$ & $-0.411$ & $0.267$  \\\\\n",
      " Price-Dividend Ratio          & $27.671$ & $30.860$ & $3.190$  \\\\\n",
      " TFP Growth                    & $1.393$  & $0.556$  & $-0.837$ \\\\\n",
      " Investment-Capital Ratio      & $7.065$  & $6.218$  & $-0.848$ \\\\\n",
      " Employment-Population Ratio   & $48.896$ & $51.478$ & $2.582$  \\\\\n",
      "\\bottomrule\n",
      "\\end{tabular}\n"
     ]
    }
   ],
   "source": [
    "# Import libraries\n",
    "import statistics as stat\n",
    "import pandas as pd\n",
    "from scipy import optimize,arange\n",
    "import numpy as np\n",
    "from IPython.display import Image\n",
    "from tabulate import tabulate\n",
    "\n",
    "\n",
    "############ VÆLG LAND (US ELLER UK) ##################\n",
    "country = \"UK\"\n",
    "\n",
    "if country == \"US\":\n",
    "    df = pd.read_csv('../data/V3_timeseries__postrev_I1Y_19-Oct-2018.csv')\n",
    "else:\n",
    "    df = pd.read_csv('../data/V3_timeseries__postrev_I1Y_19-Oct-2018-UK.csv', delimiter=\";\")\n",
    "#######################################################\n",
    "\n",
    "#select relevant series, set year as index, create copy\n",
    "df = df[['year','ProfitK','ProfitY','RF', 'growthpop','priceinvt','PD','growthTFP','ik','EmpPop']]\n",
    "df = df.set_index('year')\n",
    "df = df.loc[1984:2016]\n",
    "\n",
    "df_2 = pd.DataFrame(index=['ProfitK','ProfitY','RF', 'growthpop','priceinvt','PD','growthTFP','ik','EmpPop'])\n",
    "\n",
    "# Calculate averages and insert to DataFrame\n",
    "for var in list(df.columns):\n",
    "    \n",
    "    df_2.loc[var,'p1'] = stat.mean(df.loc[1984:2000,var])\n",
    "    df_2.loc[var,'p2'] = stat.mean(df.loc[2001:2016,var])\n",
    "    #df_2.loc[var,'stdev1'] = stat.stdev(df.loc[1984:2000,var])\n",
    "    #df_2.loc[var,'stdev2'] = stat.stdev(df.loc[2001:2016,var])    \n",
    "    df_2.loc[var,'change'] = df_2.loc[var,'p2']-df_2.loc[var,'p1']\n",
    "\n",
    "    \n",
    "for var in df_2.columns.tolist()[:]:\n",
    "    df_2[var] = df_2[var].map('${:,.3f}$'.format)    \n",
    "# Make Dictionary for data-series\n",
    "series = {\n",
    "    \"ProfitK\": \"Gross profitability\",\n",
    "    \"ProfitY\": \"Gross Capital Share\",\n",
    "    \"RF\": \"Gross Risk Free Interest Rate\",\n",
    "    \"growthpop\": \"Population Growth\",\n",
    "    \"priceinvt\": \"Investment Prices Growth\",\n",
    "    \"PD\": \"Price-Dividend Ratio\",\n",
    "    \"growthTFP\": \"TFP Growth\",\n",
    "    \"ik\":\"Investment-Capital Ratio\",\n",
    "    \"EmpPop\": \"Employment-Population Ratio\",\n",
    "}\n",
    "df_2.index = df_2.index.to_series().map(series)\n",
    "latex = tabulate(df_2, tablefmt=\"latex_raw\")\n",
    "\n",
    "print(\"\\\\begin{tabular}{lrrr}\")\n",
    "print(\"\\\\toprule\")\n",
    "print(\" & \\\\multicolumn{2}{c}{\\\\textit{Averages}} &  \\\\\\\\ \\\\cmidrule(lr){2-3} \")\n",
    "print(\" & 1984 - 2000 & 2001 - 2016 & Change \\\\\\\\ \")\n",
    "print(\"\\\\midrule\")\n",
    "print(latex[29:-21])\n",
    "print(\"\\\\bottomrule\")\n",
    "print(\"\\end{tabular}\")"
   ]
  },
  {
   "cell_type": "code",
   "execution_count": null,
   "metadata": {},
   "outputs": [],
   "source": []
  },
  {
   "cell_type": "code",
   "execution_count": null,
   "metadata": {},
   "outputs": [],
   "source": []
  }
 ],
 "metadata": {
  "kernelspec": {
   "display_name": "Python 3",
   "language": "python",
   "name": "python3"
  },
  "language_info": {
   "codemirror_mode": {
    "name": "ipython",
    "version": 3
   },
   "file_extension": ".py",
   "mimetype": "text/x-python",
   "name": "python",
   "nbconvert_exporter": "python",
   "pygments_lexer": "ipython3",
   "version": "3.7.1"
  }
 },
 "nbformat": 4,
 "nbformat_minor": 2
}
