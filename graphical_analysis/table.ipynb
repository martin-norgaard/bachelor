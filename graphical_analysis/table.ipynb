{
 "cells": [
  {
   "cell_type": "code",
   "execution_count": 1,
   "metadata": {},
   "outputs": [
    {
     "name": "stdout",
     "output_type": "stream",
     "text": [
      "\\begin{tabular}{lrrr}\n",
      "\\toprule\n",
      " & \\multicolumn{2}{c}{\\textit{Averages}} &  \\\\ \\cmidrule(lr){2-3} \n",
      " & 1984 - 1999 & 2000 - 2015 & Change \\\\ \n",
      "\\midrule\n",
      " Gross profitability           & $15.631$ & $15.630$ & $-0.000$ \\\\\n",
      " Gross Capital Share           & $45.147$ & $42.064$ & $-3.083$ \\\\\n",
      " Gross Risk Free Interest Rate & $5.106$  & $1.335$  & $-3.771$ \\\\\n",
      " Population Growth             & $0.255$  & $0.652$  & $0.396$  \\\\\n",
      " Investment Prices Growth      & $0.231$  & $-0.042$ & $-0.272$ \\\\\n",
      " Price-Dividend Ratio          & $26.679$ & $31.775$ & $5.097$  \\\\\n",
      " TFP Growth                    & $1.363$  & $0.662$  & $-0.702$ \\\\\n",
      " Investment-Capital Ratio      & $6.491$  & $6.143$  & $-0.348$ \\\\\n",
      " Employment-Population Ratio   & $44.805$ & $47.249$ & $2.444$  \\\\\n",
      "\\bottomrule\n",
      "\\end{tabular}\n"
     ]
    }
   ],
   "source": [
    "# Import libraries\n",
    "import statistics as stat\n",
    "import pandas as pd\n",
    "from scipy import optimize,arange\n",
    "import numpy as np\n",
    "from IPython.display import Image\n",
    "from tabulate import tabulate\n",
    "\n",
    "\n",
    "############ VÆLG LAND (US ELLER UK) ##################\n",
    "#country = \"UK\"\n",
    "\n",
    "#if country == \"US\":\n",
    "#    df = pd.read_csv('../data/V3_timeseries__postrev_I1Y_19-Oct-2018.csv')\n",
    "#else:\n",
    "#    df = pd.read_csv('../data/V3_timeseries__postrev_I1Y_19-Oct-2018-UK.csv', delimiter=\";\")\n",
    "#######################################################\n",
    "\n",
    "country=\"GBR\"\n",
    "\n",
    "df = pd.read_csv(\"../data/data.csv\", sep=\";\", index_col=\"year\")\n",
    "df = df[df[\"ISO\"]==country]\n",
    "\n",
    "\n",
    "#select relevant series, set year as index, create copy\n",
    "df = df[['ProfitK','ProfitY','RF', 'PopGrowth','PriceInvt','PD','TFPgrowth','XK','EmpPop']]\n",
    "df = df.loc[1984:2015]\n",
    "\n",
    "df_2 = pd.DataFrame(index=['ProfitK','ProfitY','RF', 'PopGrowth','PriceInvt','PD','TFPgrowth','XK','EmpPop'])\n",
    "\n",
    "# Calculate averages and insert to DataFrame\n",
    "for var in df.columns.tolist():\n",
    "    \n",
    "    df_2.loc[var,'p1'] = stat.mean(df.loc[1984:1999,var])\n",
    "    df_2.loc[var,'p2'] = stat.mean(df.loc[2000:2015,var])\n",
    "    #df_2.loc[var,'stdev1'] = stat.stdev(df.loc[1984:2000,var])\n",
    "    #df_2.loc[var,'stdev2'] = stat.stdev(df.loc[2001:2016,var])    \n",
    "    df_2.loc[var,'change'] = df_2.loc[var,'p2']-df_2.loc[var,'p1']\n",
    "\n",
    "    \n",
    "for var in df_2.columns.tolist()[:]:\n",
    "    df_2[var] = df_2[var].map('${:,.3f}$'.format)    \n",
    "# Make Dictionary for data-series\n",
    "series = {\n",
    "    \"ProfitK\": \"Gross profitability\",\n",
    "    \"ProfitY\": \"Gross Capital Share\",\n",
    "    \"RF\": \"Gross Risk Free Interest Rate\",\n",
    "    \"PopGrowth\": \"Population Growth\",\n",
    "    \"PriceInvt\": \"Investment Prices Growth\",\n",
    "    \"PD\": \"Price-Dividend Ratio\",\n",
    "    \"TFPgrowth\": \"TFP Growth\",\n",
    "    \"XK\":\"Investment-Capital Ratio\",\n",
    "    \"EmpPop\": \"Employment-Population Ratio\",\n",
    "}\n",
    "df_2.index = df_2.index.to_series().map(series)\n",
    "latex = tabulate(df_2, tablefmt=\"latex_raw\")\n",
    "\n",
    "print(\"\\\\begin{tabular}{lrrr}\")\n",
    "print(\"\\\\toprule\")\n",
    "print(\" & \\\\multicolumn{2}{c}{\\\\textit{Averages}} &  \\\\\\\\ \\\\cmidrule(lr){2-3} \")\n",
    "print(\" & 1984 - 1999 & 2000 - 2015 & Change \\\\\\\\ \")\n",
    "print(\"\\\\midrule\")\n",
    "print(latex[29:-21])\n",
    "print(\"\\\\bottomrule\")\n",
    "print(\"\\end{tabular}\")"
   ]
  },
  {
   "cell_type": "code",
   "execution_count": 5,
   "metadata": {},
   "outputs": [
    {
     "data": {
      "text/plain": [
       "['$15.631$',\n",
       " '$45.147$',\n",
       " '$5.106$',\n",
       " '$0.255$',\n",
       " '$0.231$',\n",
       " '$26.679$',\n",
       " '$1.363$',\n",
       " '$6.491$',\n",
       " '$44.805$']"
      ]
     },
     "execution_count": 5,
     "metadata": {},
     "output_type": "execute_result"
    }
   ],
   "source": [
    "df_2[\"p1\"].tolist()"
   ]
  },
  {
   "cell_type": "code",
   "execution_count": null,
   "metadata": {},
   "outputs": [],
   "source": []
  }
 ],
 "metadata": {
  "kernelspec": {
   "display_name": "Python 3",
   "language": "python",
   "name": "python3"
  },
  "language_info": {
   "codemirror_mode": {
    "name": "ipython",
    "version": 3
   },
   "file_extension": ".py",
   "mimetype": "text/x-python",
   "name": "python",
   "nbconvert_exporter": "python",
   "pygments_lexer": "ipython3",
   "version": "3.7.1"
  }
 },
 "nbformat": 4,
 "nbformat_minor": 2
}
