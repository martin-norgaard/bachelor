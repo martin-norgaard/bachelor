{
 "cells": [
  {
   "cell_type": "markdown",
   "metadata": {},
   "source": [
    "### Preperations"
   ]
  },
  {
   "cell_type": "code",
   "execution_count": 1,
   "metadata": {},
   "outputs": [],
   "source": [
    "# Import libraries\n",
    "import pandas as pd\n",
    "import matplotlib.pyplot as plt\n",
    "\n",
    "#Define function\n",
    "def make_graph(country):\n",
    "    df = pd.read_csv(\"data/data.csv\", sep=\";\", index_col=\"year\")\n",
    "    df = df[df[\"ISO\"]==country]\n",
    "\n",
    "    #select relevant series, set year as index, create copy\n",
    "    df = df[['ProfitK','ProfitY','rf', 'PopGrowth','PriceInvt','PD','TFPgrowth','XK','EmpPop']]\n",
    "    df = df.loc[1984:2015]\n",
    "\n",
    "    df_2 = df.copy()\n",
    "    # Calculate averages and insert to DataFrame\n",
    "    for var in list(df.columns):\n",
    "\n",
    "        ma = df[var].rolling(window=11,center=True,min_periods=11).mean()\n",
    "        ma_name = str(\"MA_\") + str(var)\n",
    "        df_2[ma_name] = ma\n",
    "\n",
    "    # Make Dictionary for data-series\n",
    "    series = {\n",
    "        \"ProfitK\": \"Average Return to Capital\",\n",
    "        \"ProfitY\": \"Gross Capital Share\",\n",
    "        \"rf\": \"Risk Free Interest Rate\",\n",
    "        \"PopGrowth\": \"Population Growth\",\n",
    "        \"PriceInvt\": \"Investment Price Growth\",\n",
    "        \"PD\": \"Price-Dividend Ratio\",\n",
    "        \"TFPgrowth\": \"TFP Growth\",\n",
    "        \"XK\":\"Investment-Capital Ratio\",\n",
    "        \"EmpPop\": \"Employment-Population Ratio\",\n",
    "        \"Spread\": \"Spread\"}\n",
    "\n",
    "    fig, axes = plt.subplots(nrows=3, ncols=3,figsize=(15,10),linewidth=2)\n",
    "    for i in range(0,3):\n",
    "        for j in range(0,3):\n",
    "\n",
    "            graph_id = i*3+j\n",
    "            var = df.columns[graph_id]\n",
    "\n",
    "            series1 = str(var)\n",
    "            series2 = str(\"MA_\") + str(var)\n",
    "\n",
    "            ax=axes[i,j]\n",
    "\n",
    "            ax.set_title(series[var], size=18)\n",
    "            ax.tick_params(direction='in', width=2, length=6, labelsize=16)\n",
    "            ax.spines[\"left\"].set_linewidth(2)\n",
    "            ax.spines[\"right\"].set_linewidth(2)\n",
    "            ax.spines[\"top\"].set_linewidth(2)\n",
    "            ax.spines[\"bottom\"].set_linewidth(2)\n",
    "\n",
    "            df_2.plot(kind='line',y=series1, color='dimgrey', ax=ax, legend=False, linewidth=2)\n",
    "            df_2.plot(kind='line',y=series2, color='black', linestyle='dashed', ax=ax, legend=False, linewidth=2.5)\n",
    "            ax.set_xlabel(\"\")  \n",
    "\n",
    "    fig.tight_layout()\n",
    "    fig.subplots_adjust(hspace=0.45)\n",
    "    if save == 1: filename = str(\"graphs/countries/\") + str(\"all_\") + country + str(\".pdf\")\n",
    "    plt.savefig(filename)\n",
    "    if show == 1: plt.show()\n",
    "    plt.close()\n",
    "    \n",
    "    \n",
    "def make_intro_graph():\n",
    "    df = pd.read_csv(\"data/data.csv\", sep=\";\", index_col=\"year\")\n",
    "\n",
    "    series_gbr = df.loc[(df['ISO']=='GBR')& (df.index>1985),'ProfitK']\n",
    "    series1_gbr = df.loc[(df['ISO']=='GBR')& (df.index>1985),'rf']\n",
    "\n",
    "    series_fra = df.loc[(df['ISO']=='FRA')& (df.index>1985),'ProfitK']\n",
    "    series1_fra = df.loc[(df['ISO']=='FRA')& (df.index>1985),'rf']\n",
    "\n",
    "    series_ita = df.loc[(df['ISO']=='ITA')& (df.index>1985),'ProfitK']\n",
    "    series1_ita = df.loc[(df['ISO']=='ITA')& (df.index>1985),'rf']\n",
    "    d = series_gbr.index.values\n",
    "\n",
    "\n",
    "    fig, (ax1, ax2, ax3) = plt.subplots(1,3, sharey=True)\n",
    "    ax1.plot(series1_gbr, color = 'black', linestyle='dashed')\n",
    "    ax1.plot(series_gbr, color = 'black')\n",
    "    ax1.axhline(y=0, color='black', linestyle = 'dotted')\n",
    "    ax1.fill_between(d,series1_gbr,series_gbr,facecolor='#e9e9e9')\n",
    "    ax1.set_title(\"Great Britain\")\n",
    "\n",
    "    ax2.plot(series1_fra, color = 'black', linestyle='dashed')\n",
    "    ax2.plot(series_fra, color = 'black')\n",
    "    ax2.axhline(y=0, color='black', linestyle = 'dotted')\n",
    "    ax2.fill_between(d,series1_fra,series_fra,facecolor='#e9e9e9')\n",
    "    ax2.set_title(\"France\")\n",
    "\n",
    "    ax3.plot(series1_ita, color = 'black', linestyle='dashed')\n",
    "    ax3.plot(series_ita, color = 'black')\n",
    "    ax3.axhline(y=0, color='black', linestyle = 'dotted')\n",
    "    ax3.fill_between(d,series1_ita,series_ita,facecolor='#e9e9e9')\n",
    "    ax3.set_title(\"Italy\")\n",
    "\n",
    "    fig.set_size_inches(10, 3)\n",
    "    if save == 1: plt.savefig('graphs/spread.pdf')\n",
    "\n",
    "    if show == 1: plt.show()\n",
    "        "
   ]
  },
  {
   "cell_type": "markdown",
   "metadata": {},
   "source": [
    "### Construct graphs"
   ]
  },
  {
   "cell_type": "code",
   "execution_count": 2,
   "metadata": {},
   "outputs": [
    {
     "name": "stdout",
     "output_type": "stream",
     "text": [
      "Working...\n",
      "All graphs completed and saved to folder!\n"
     ]
    }
   ],
   "source": [
    "# Settings\n",
    "save = 1\n",
    "show = 0\n",
    "\n",
    "if show == 0: print('Working...')\n",
    "\n",
    "for iso in ['BEL','DNK','FIN','FRA','GBR','ITA','JPN','NLD','USA']:\n",
    "    if show == 1: print(\"\\n\\n\\n\" + iso)\n",
    "    make_graph(iso)\n",
    "    \n",
    "if show == 0: print(\"All graphs completed and saved to folder!\")"
   ]
  },
  {
   "cell_type": "code",
   "execution_count": 3,
   "metadata": {},
   "outputs": [
    {
     "data": {
      "image/png": "[encoded data removed]",
      "text/plain": [
       "<Figure size 720x216 with 3 Axes>"
      ]
     },
     "metadata": {
      "needs_background": "light"
     },
     "output_type": "display_data"
    }
   ],
   "source": [
    "make_intro_graph()"
   ]
  },
  {
   "cell_type": "code",
   "execution_count": null,
   "metadata": {},
   "outputs": [],
   "source": []
  }
 ],
 "metadata": {
  "kernelspec": {
   "display_name": "Python 3",
   "language": "python",
   "name": "python3"
  },
  "language_info": {
   "codemirror_mode": {
    "name": "ipython",
    "version": 3
   },
   "file_extension": ".py",
   "mimetype": "text/x-python",
   "name": "python",
   "nbconvert_exporter": "python",
   "pygments_lexer": "ipython3",
   "version": "3.7.1"
  }
 },
 "nbformat": 4,
 "nbformat_minor": 2
}
