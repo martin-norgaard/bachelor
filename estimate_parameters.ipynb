{
 "cells": [
  {
   "cell_type": "markdown",
   "metadata": {},
   "source": [
    "# Estimate parameters"
   ]
  },
  {
   "cell_type": "code",
   "execution_count": 19,
   "metadata": {},
   "outputs": [],
   "source": [
    "# Import libraries\n",
    "import statistics as stat\n",
    "import pandas as pd"
   ]
  },
  {
   "cell_type": "code",
   "execution_count": 2,
   "metadata": {},
   "outputs": [],
   "source": [
    "# Load data\n",
    "df = pd.read_csv(r\"C:\\Users\\Martin Nørgaard\\Documents\\GitHub\\bachelor\\V3_timeseries__postrev_I1Y_19-Oct-2018.csv\")\n",
    "df_focus = df[['year','ProfitK','ProfitY','RF', 'growthpop','priceinvt','PD','growthTFP','ik','EmpPop']]\n",
    "df_focus = df_focus.set_index('year')"
   ]
  },
  {
   "cell_type": "code",
   "execution_count": 3,
   "metadata": {},
   "outputs": [
    {
     "data": {
      "text/html": [
       "<div>\n",
       "<style scoped>\n",
       "    .dataframe tbody tr th:only-of-type {\n",
       "        vertical-align: middle;\n",
       "    }\n",
       "\n",
       "    .dataframe tbody tr th {\n",
       "        vertical-align: top;\n",
       "    }\n",
       "\n",
       "    .dataframe thead th {\n",
       "        text-align: right;\n",
       "    }\n",
       "</style>\n",
       "<table border=\"1\" class=\"dataframe\">\n",
       "  <thead>\n",
       "    <tr style=\"text-align: right;\">\n",
       "      <th></th>\n",
       "      <th>ProfitK</th>\n",
       "      <th>ProfitY</th>\n",
       "      <th>RF</th>\n",
       "      <th>growthpop</th>\n",
       "      <th>priceinvt</th>\n",
       "      <th>PD</th>\n",
       "      <th>growthTFP</th>\n",
       "      <th>ik</th>\n",
       "      <th>EmpPop</th>\n",
       "    </tr>\n",
       "    <tr>\n",
       "      <th>year</th>\n",
       "      <th></th>\n",
       "      <th></th>\n",
       "      <th></th>\n",
       "      <th></th>\n",
       "      <th></th>\n",
       "      <th></th>\n",
       "      <th></th>\n",
       "      <th></th>\n",
       "      <th></th>\n",
       "    </tr>\n",
       "  </thead>\n",
       "  <tbody>\n",
       "    <tr>\n",
       "      <th>1960</th>\n",
       "      <td>14.234645</td>\n",
       "      <td>29.143753</td>\n",
       "      <td>2.101667</td>\n",
       "      <td>1.646313</td>\n",
       "      <td>-1.321805</td>\n",
       "      <td>28.767187</td>\n",
       "      <td>0.647897</td>\n",
       "      <td>7.456101</td>\n",
       "      <td>56.108616</td>\n",
       "    </tr>\n",
       "    <tr>\n",
       "      <th>1961</th>\n",
       "      <td>14.418177</td>\n",
       "      <td>29.418518</td>\n",
       "      <td>1.855833</td>\n",
       "      <td>1.292520</td>\n",
       "      <td>-1.373270</td>\n",
       "      <td>33.813931</td>\n",
       "      <td>1.891988</td>\n",
       "      <td>7.261791</td>\n",
       "      <td>55.354179</td>\n",
       "    </tr>\n",
       "    <tr>\n",
       "      <th>1962</th>\n",
       "      <td>15.298585</td>\n",
       "      <td>30.143707</td>\n",
       "      <td>1.725833</td>\n",
       "      <td>1.157498</td>\n",
       "      <td>-1.162756</td>\n",
       "      <td>29.106068</td>\n",
       "      <td>3.314460</td>\n",
       "      <td>7.622490</td>\n",
       "      <td>55.513981</td>\n",
       "    </tr>\n",
       "    <tr>\n",
       "      <th>1963</th>\n",
       "      <td>16.091473</td>\n",
       "      <td>31.001640</td>\n",
       "      <td>2.081667</td>\n",
       "      <td>1.866188</td>\n",
       "      <td>-1.561601</td>\n",
       "      <td>30.914055</td>\n",
       "      <td>2.858746</td>\n",
       "      <td>7.922162</td>\n",
       "      <td>55.351719</td>\n",
       "    </tr>\n",
       "    <tr>\n",
       "      <th>1964</th>\n",
       "      <td>16.331043</td>\n",
       "      <td>31.335564</td>\n",
       "      <td>2.345833</td>\n",
       "      <td>1.675677</td>\n",
       "      <td>-0.907530</td>\n",
       "      <td>32.665569</td>\n",
       "      <td>2.761517</td>\n",
       "      <td>8.154409</td>\n",
       "      <td>55.670570</td>\n",
       "    </tr>\n",
       "  </tbody>\n",
       "</table>\n",
       "</div>"
      ],
      "text/plain": [
       "        ProfitK    ProfitY        RF  growthpop  priceinvt         PD  \\\n",
       "year                                                                    \n",
       "1960  14.234645  29.143753  2.101667   1.646313  -1.321805  28.767187   \n",
       "1961  14.418177  29.418518  1.855833   1.292520  -1.373270  33.813931   \n",
       "1962  15.298585  30.143707  1.725833   1.157498  -1.162756  29.106068   \n",
       "1963  16.091473  31.001640  2.081667   1.866188  -1.561601  30.914055   \n",
       "1964  16.331043  31.335564  2.345833   1.675677  -0.907530  32.665569   \n",
       "\n",
       "      growthTFP        ik     EmpPop  \n",
       "year                                  \n",
       "1960   0.647897  7.456101  56.108616  \n",
       "1961   1.891988  7.261791  55.354179  \n",
       "1962   3.314460  7.622490  55.513981  \n",
       "1963   2.858746  7.922162  55.351719  \n",
       "1964   2.761517  8.154409  55.670570  "
      ]
     },
     "execution_count": 3,
     "metadata": {},
     "output_type": "execute_result"
    }
   ],
   "source": [
    "df_focus.head()"
   ]
  },
  {
   "cell_type": "markdown",
   "metadata": {},
   "source": [
    "## First subsample"
   ]
  },
  {
   "cell_type": "markdown",
   "metadata": {},
   "source": [
    "### Population growth, investment-specific progress, TFP growth and labour supply"
   ]
  },
  {
   "cell_type": "markdown",
   "metadata": {},
   "source": [
    "Farhi and Gourio (2018) use measured equivalents for the following model variables:"
   ]
  },
  {
   "cell_type": "code",
   "execution_count": 9,
   "metadata": {},
   "outputs": [
    {
     "name": "stdout",
     "output_type": "stream",
     "text": [
      "g_L = 1.1706474276470589\n",
      "g_Q = -1.7692253376470588\n",
      "N_bar = 62.34416447058823\n",
      "g_Z = 1.1003753694117646\n"
     ]
    }
   ],
   "source": [
    "# Population growth (moment) = population growth (parameter)\n",
    "g_L = stat.mean(df_focus.loc[1984:2000,\"growthpop\"])\n",
    "print(\"g_L = \" + str(g_L))\n",
    "\n",
    "# Investment price growth (moment) = investment-specific progress (parameter)\n",
    "g_Q = stat.mean(df_focus.loc[1984:2000,\"priceinvt\"])\n",
    "print(\"g_Q = \" + str(g_Q))\n",
    "\n",
    "# Employment-population ratio (moment) = labour supply (parameter)\n",
    "N_bar = stat.mean(df_focus.loc[1984:2000,\"EmpPop\"])\n",
    "print(\"N_bar = \" + str(N_bar))\n",
    "\n",
    "# TFP growth (moment) = TFP growth (parameter)\n",
    "g_Z = stat.mean(df_focus.loc[1984:2000,\"growthTFP\"])\n",
    "print(\"g_Z = \" + str(g_Z))"
   ]
  },
  {
   "cell_type": "markdown",
   "metadata": {},
   "source": [
    "### Further moment conditions"
   ]
  },
  {
   "cell_type": "markdown",
   "metadata": {},
   "source": [
    "GDP trend growth may be derived from:"
   ]
  },
  {
   "cell_type": "markdown",
   "metadata": {},
   "source": [
    "\\begin{align}\n",
    "1 + g_T = (1 + g_L )(1+ g_Z)^{\\frac{1}{1-\\alpha}}(1+ g_Q)^{\\frac{1}{1-\\alpha}} \\tag{eq. 11} \n",
    "\\end{align}"
   ]
  },
  {
   "cell_type": "markdown",
   "metadata": {},
   "source": [
    "The following equations in Farhi and Gourio (2018) are the applied moment conditions, cf. section IV.B on identification:"
   ]
  },
  {
   "cell_type": "markdown",
   "metadata": {},
   "source": [
    "\\begin{align}\n",
    "\\frac{I}{K} = \\frac{\\Pi}{K / Q} & \\simeq \\delta+g_{Q}+g_{T} \\tag{eq. 18} \\\\\n",
    "\\frac{P^{\\star}}{D^{\\star}} & \\simeq \\frac{1+g_{T}}{r^{\\star}-g_{T}} \\tag{eq. 23} \\\\\n",
    "s_{K} = \\frac{\\Pi}{Y} = 1-s_{L} & =\\frac{\\mu+\\alpha-1}{\\mu} \\tag{eq. 20}\\\\\n",
    "MPK = \\frac{\\Pi}{K} & =\\frac{\\mu+\\alpha-1}{\\alpha}\\left(r^{\\star}+\\delta+g_{Q}\\right) \\tag{eq. 27}\n",
    "\\end{align}"
   ]
  },
  {
   "cell_type": "markdown",
   "metadata": {},
   "source": [
    "We calculate the measured moments (mean values) - M# in parenthesis indicate momentnumbering from Farhi and Gourio pp. 172-173:"
   ]
  },
  {
   "cell_type": "code",
   "execution_count": 16,
   "metadata": {},
   "outputs": [
    {
     "name": "stdout",
     "output_type": "stream",
     "text": [
      "Profit/K = 42.33587782352941\n",
      "s_K = 29.887441294117647\n",
      "I/K = 8.102986358823529\n",
      "P/D = 42.33587782352941\n"
     ]
    }
   ],
   "source": [
    "# Gross Profitability (M1)\n",
    "ProfitK = stat.mean(df_focus.loc[1984:2000,\"PD\"])\n",
    "print(\"Profit/K = \" + str(ProfitK))\n",
    "\n",
    "# Gross Capital Share (M2)\n",
    "s_K = stat.mean(df_focus.loc[1984:2000,\"ProfitY\"])\n",
    "print(\"s_K = \" + str(s_K))\n",
    "\n",
    "# Investment-capital ratio (M3)\n",
    "ik = stat.mean(df_focus.loc[1984:2000,\"ik\"])\n",
    "print(\"I/K = \" + str(ik))\n",
    "\n",
    "# Price-Dividend Ratio (M5)\n",
    "PD = stat.mean(df_focus.loc[1984:2000,\"PD\"])\n",
    "print(\"P/D = \" + str(PD))"
   ]
  },
  {
   "cell_type": "markdown",
   "metadata": {},
   "source": [
    "### Risk-free Rate"
   ]
  },
  {
   "cell_type": "markdown",
   "metadata": {},
   "source": [
    "We may finally deduce the risk premium using data on the risk-free interest rate. This however requires further assumptions."
   ]
  },
  {
   "cell_type": "code",
   "execution_count": 17,
   "metadata": {},
   "outputs": [],
   "source": [
    "#Intertemporal elasticity of substitution\n",
    "IES = 2\n",
    "\n",
    "# Rare disaster distribution (Chi = 15 pct.)\n",
    "e_b = 0.85\n",
    "\n",
    "# Risk aversion coefficient\n",
    "theta = 12"
   ]
  },
  {
   "cell_type": "code",
   "execution_count": null,
   "metadata": {},
   "outputs": [],
   "source": []
  }
 ],
 "metadata": {
  "kernelspec": {
   "display_name": "Python 3",
   "language": "python",
   "name": "python3"
  },
  "language_info": {
   "codemirror_mode": {
    "name": "ipython",
    "version": 3
   },
   "file_extension": ".py",
   "mimetype": "text/x-python",
   "name": "python",
   "nbconvert_exporter": "python",
   "pygments_lexer": "ipython3",
   "version": "3.7.3"
  }
 },
 "nbformat": 4,
 "nbformat_minor": 2
}
