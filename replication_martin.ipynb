{
 "cells": [
  {
   "cell_type": "markdown",
   "metadata": {},
   "source": [
    "# Setup"
   ]
  },
  {
   "cell_type": "code",
   "execution_count": null,
   "metadata": {},
   "outputs": [],
   "source": [
    "import numpy as np\n",
    "import pandas as pd\n",
    "import scipy as sp\n",
    "from scipy import optimize\n",
    "import statistics as stat\n",
    "from IPython.display import display\n",
    "import math\n",
    "\n",
    "class par: None\n",
    "class moms: None"
   ]
  },
  {
   "cell_type": "markdown",
   "metadata": {},
   "source": [
    "## Settings and assumptions"
   ]
  },
  {
   "cell_type": "code",
   "execution_count": null,
   "metadata": {},
   "outputs": [],
   "source": [
    "#Shock size (used in step 3)\n",
    "par.b = par.bh = 0.15\n",
    "#Risk aversion coefficient (used in step 3)\n",
    "par.theta = 12\n",
    "#IES, sigma = 1/IES (used in step 3)\n",
    "par.sigma = 0.5"
   ]
  },
  {
   "cell_type": "markdown",
   "metadata": {},
   "source": [
    "# Load data"
   ]
  },
  {
   "cell_type": "code",
   "execution_count": null,
   "metadata": {},
   "outputs": [],
   "source": [
    "df = pd.read_csv(\"data/V3_timeseries__postrev_I1Y_19-Oct-2018.csv\")\n",
    "df = df[['year','ProfitK','ProfitY','RF', 'growthpop','priceinvt','PD','growthTFP','ik','EmpPop']]\n",
    "df = df.set_index('year')\n",
    "#display(df.head())\n",
    "#display(df.describe())"
   ]
  },
  {
   "cell_type": "markdown",
   "metadata": {},
   "source": [
    "# Moments"
   ]
  },
  {
   "cell_type": "code",
   "execution_count": null,
   "metadata": {},
   "outputs": [],
   "source": [
    "# Start and end dates defined in main notebook\n",
    "moms.ProfitK = stat.mean(df.loc[start:end,\"ProfitK\"])/100\n",
    "moms.s_K = stat.mean(df.loc[start:end,\"ProfitY\"])/100\n",
    "moms.ik = stat.mean(df.loc[start:end,\"ik\"])/100\n",
    "moms.PD = stat.mean(df.loc[start:end,\"PD\"])\n",
    "moms.TFPgrowth = stat.mean(df.loc[start:end,\"growthTFP\"])/100\n",
    "moms.RF = stat.mean(df.loc[start:end,\"RF\"])/100 #used in step 3\n",
    "\n",
    "#for name in ['ProfitK','s_K','ik','PD','TFPgrowth','RF']:\n",
    "#    print(f'{name:10s} = {getattr(moms,name):.5f}')"
   ]
  },
  {
   "cell_type": "markdown",
   "metadata": {},
   "source": [
    "# Step 1\n",
    "\n",
    "Estimate $g_L$, $g_Q$ and $\\bar{N}$ directly from data"
   ]
  },
  {
   "cell_type": "code",
   "execution_count": null,
   "metadata": {},
   "outputs": [],
   "source": [
    "par.g_L = stat.mean(df.loc[start:end,\"growthpop\"])/100\n",
    "par.g_Q = -stat.mean(df.loc[start:end,\"priceinvt\"])/100 # note: negativ value used\n",
    "par.N_bar = stat.mean(df.loc[start:end,\"EmpPop\"])/100\n",
    "\n",
    "#for name in ['g_L','g_Q','N_bar']:\n",
    "#    print(f'{name:5s} = {getattr(par,name):.5f}')"
   ]
  },
  {
   "cell_type": "markdown",
   "metadata": {},
   "source": [
    "# Step 2"
   ]
  },
  {
   "cell_type": "markdown",
   "metadata": {},
   "source": [
    "Estimate $\\mu$, $\\alpha$, $\\delta$, $g_z$ by solving equation system"
   ]
  },
  {
   "cell_type": "code",
   "execution_count": null,
   "metadata": {},
   "outputs": [],
   "source": [
    "def g_T(par):\n",
    "    par.g_T = (1+par.g_L)*((1+par.g_Z)**(1/(1-par.alpha)))*((1+par.g_Q)**(par.alpha/(1-par.alpha)))-1\n",
    "   \n",
    "def eq_footnote_15(par,moms):\n",
    "     return moms.TFPgrowth -(par.g_T-(1-moms.s_K)*par.g_L-moms.s_K*(par.g_T+par.g_Q))\n",
    "\n",
    "def eq_11(par,moms):\n",
    "    return (1+par.g_L)*((1+par.g_Z)**(1/(1-par.alpha)))*((1+par.g_Q)**(par.alpha/(1-par.alpha)))-(1+par.g_T)\n",
    "\n",
    "def eq_18(par,moms):\n",
    "    return (1+par.g_Q)*(1+par.g_T)-(1-par.delta) - moms.ik\n",
    "\n",
    "def eq_20(par,moms):\n",
    "    return (par.mu+par.alpha-1)/(par.mu)-moms.s_K"
   ]
  },
  {
   "cell_type": "code",
   "execution_count": null,
   "metadata": {},
   "outputs": [],
   "source": [
    "def set_parameters(par,x):\n",
    "    \n",
    "    for name,value in zip(par.names,x):\n",
    "        setattr(par,name,value)\n",
    "    \n",
    "    # update g_T\n",
    "    g_T(par)\n",
    "    \n",
    "def set_x(par):\n",
    "    \n",
    "    x = np.zeros(len(par.names))\n",
    "    for i,name in enumerate(par.names):\n",
    "        x[i] = getattr(par,name)\n",
    "        \n",
    "    return x\n",
    "\n",
    "def eq_system(x,par,moms):\n",
    "    \n",
    "    # a. set parameters\n",
    "    set_parameters(par,x)            \n",
    "    \n",
    "    # c. evaluate equations\n",
    "    out = []\n",
    "    out.append(eq_footnote_15(par,moms))\n",
    "    out.append(eq_11(par,moms))\n",
    "    out.append(eq_18(par,moms))\n",
    "    out.append(eq_20(par,moms))\n",
    "\n",
    "    return out"
   ]
  },
  {
   "cell_type": "code",
   "execution_count": null,
   "metadata": {},
   "outputs": [],
   "source": [
    "# a. parameters to estimate\n",
    "par.names = ['mu','delta','alpha','g_Z']\n",
    "\n",
    "# b. guess\n",
    "par.mu = 1.078\n",
    "par.delta = 0.02778\n",
    "par.alpha = 0.244\n",
    "par.g_Z = 0.01298\n",
    "x = set_x(par)\n",
    "\n",
    "# c. solve\n",
    "solution = optimize.fsolve(eq_system, x, args=(par,moms), full_output=0)\n",
    "set_parameters(par,solution)\n",
    "\n",
    "# d. print result\n",
    "#for name in par.names:\n",
    "#    print(f'{name:10} = {getattr(par,name):4f}')"
   ]
  },
  {
   "cell_type": "markdown",
   "metadata": {},
   "source": [
    "# Step 3"
   ]
  },
  {
   "cell_type": "markdown",
   "metadata": {},
   "source": [
    "Estimate $\\beta$ and $p$"
   ]
  },
  {
   "cell_type": "code",
   "execution_count": null,
   "metadata": {},
   "outputs": [],
   "source": [
    "# Calculate r_star\n",
    "par.r_star = ((1 + par.g_T ) / moms.PD ) + par.g_T\n",
    "# Calculate g_PC\n",
    "par.g_PC = (1+par.g_T)/(1 + par.g_L) - 1"
   ]
  },
  {
   "cell_type": "code",
   "execution_count": null,
   "metadata": {},
   "outputs": [],
   "source": [
    "# define e^(r*-rf)\n",
    "exp_spread = math.exp(par.r_star - moms.RF)\n",
    "# Find analytical derivation of p in appendix\n",
    "par.p = (exp_spread - 1) / (((1 - par.b)**(-par.theta) + (1 + par.bh)**(-par.theta) -2) - exp_spread * ((1 - par.b)**(1-par.theta) + (1 + par.bh)**(1-par.theta) -2))\n",
    "#Estimate rho and thus beta\n",
    "par.rho = par.r_star - (par.sigma * par.g_PC + par.sigma * ((1-(1/par.sigma))/(1-par.theta)) * math.log(1 + par.p * ((1 - par.b)**(1-par.theta) + (1 + par.bh)**(1-par.theta) - 2)))\n",
    "par.beta = 1/(1+par.rho)"
   ]
  },
  {
   "cell_type": "code",
   "execution_count": null,
   "metadata": {},
   "outputs": [],
   "source": [
    "#Print all results\n",
    "#for name in ['beta','mu','p','delta','alpha','g_L', 'g_Z', 'g_Q', 'N_bar']:\n",
    "#    print(f'{name:10} = {getattr(par,name):4f}')"
   ]
  },
  {
   "cell_type": "markdown",
   "metadata": {},
   "source": [
    "# Store values"
   ]
  },
  {
   "cell_type": "code",
   "execution_count": null,
   "metadata": {},
   "outputs": [],
   "source": [
    "df_estimates = []\n",
    "for name in ['beta','mu','p','delta','alpha','g_L', 'g_Z', 'g_Q', 'N_bar']:\n",
    "    df_estimates.append({'Name': name, str(start) + ' - ' + str(end):getattr(par,name)})\n",
    "\n",
    "df_estimates = pd.DataFrame(df_estimates)\n",
    "df_estimates = df_estimates.set_index('Name')"
   ]
  },
  {
   "cell_type": "code",
   "execution_count": null,
   "metadata": {},
   "outputs": [],
   "source": [
    "# Magic - stores across notebooks\n",
    "%store df_estimates"
   ]
  }
 ],
 "metadata": {
  "kernelspec": {
   "display_name": "Python 3",
   "language": "python",
   "name": "python3"
  },
  "language_info": {
   "codemirror_mode": {
    "name": "ipython",
    "version": 3
   },
   "file_extension": ".py",
   "mimetype": "text/x-python",
   "name": "python",
   "nbconvert_exporter": "python",
   "pygments_lexer": "ipython3",
   "version": "3.7.1"
  }
 },
 "nbformat": 4,
 "nbformat_minor": 2
}
