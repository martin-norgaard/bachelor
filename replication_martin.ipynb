{
 "cells": [
  {
   "cell_type": "markdown",
   "metadata": {},
   "source": [
    "# Setup"
   ]
  },
  {
   "cell_type": "code",
   "execution_count": 30,
   "metadata": {},
   "outputs": [],
   "source": [
    "import numpy as np\n",
    "import pandas as pd\n",
    "import scipy as sp\n",
    "from scipy import optimize\n",
    "import statistics as stat\n",
    "from IPython.display import display\n",
    "import math\n",
    "\n",
    "class par: None\n",
    "class moms: None"
   ]
  },
  {
   "cell_type": "markdown",
   "metadata": {},
   "source": [
    "# Load data"
   ]
  },
  {
   "cell_type": "code",
   "execution_count": 31,
   "metadata": {},
   "outputs": [
    {
     "data": {
      "text/html": [
       "<div>\n",
       "<style scoped>\n",
       "    .dataframe tbody tr th:only-of-type {\n",
       "        vertical-align: middle;\n",
       "    }\n",
       "\n",
       "    .dataframe tbody tr th {\n",
       "        vertical-align: top;\n",
       "    }\n",
       "\n",
       "    .dataframe thead th {\n",
       "        text-align: right;\n",
       "    }\n",
       "</style>\n",
       "<table border=\"1\" class=\"dataframe\">\n",
       "  <thead>\n",
       "    <tr style=\"text-align: right;\">\n",
       "      <th></th>\n",
       "      <th>ProfitK</th>\n",
       "      <th>ProfitY</th>\n",
       "      <th>RF</th>\n",
       "      <th>growthpop</th>\n",
       "      <th>priceinvt</th>\n",
       "      <th>PD</th>\n",
       "      <th>growthTFP</th>\n",
       "      <th>ik</th>\n",
       "      <th>EmpPop</th>\n",
       "    </tr>\n",
       "    <tr>\n",
       "      <th>year</th>\n",
       "      <th></th>\n",
       "      <th></th>\n",
       "      <th></th>\n",
       "      <th></th>\n",
       "      <th></th>\n",
       "      <th></th>\n",
       "      <th></th>\n",
       "      <th></th>\n",
       "      <th></th>\n",
       "    </tr>\n",
       "  </thead>\n",
       "  <tbody>\n",
       "    <tr>\n",
       "      <th>1960</th>\n",
       "      <td>14.234645</td>\n",
       "      <td>29.143753</td>\n",
       "      <td>2.101667</td>\n",
       "      <td>1.646313</td>\n",
       "      <td>-1.321805</td>\n",
       "      <td>28.767187</td>\n",
       "      <td>0.647897</td>\n",
       "      <td>7.456101</td>\n",
       "      <td>56.108616</td>\n",
       "    </tr>\n",
       "    <tr>\n",
       "      <th>1961</th>\n",
       "      <td>14.418177</td>\n",
       "      <td>29.418518</td>\n",
       "      <td>1.855833</td>\n",
       "      <td>1.292520</td>\n",
       "      <td>-1.373270</td>\n",
       "      <td>33.813931</td>\n",
       "      <td>1.891988</td>\n",
       "      <td>7.261791</td>\n",
       "      <td>55.354179</td>\n",
       "    </tr>\n",
       "    <tr>\n",
       "      <th>1962</th>\n",
       "      <td>15.298585</td>\n",
       "      <td>30.143707</td>\n",
       "      <td>1.725833</td>\n",
       "      <td>1.157498</td>\n",
       "      <td>-1.162756</td>\n",
       "      <td>29.106068</td>\n",
       "      <td>3.314460</td>\n",
       "      <td>7.622490</td>\n",
       "      <td>55.513981</td>\n",
       "    </tr>\n",
       "    <tr>\n",
       "      <th>1963</th>\n",
       "      <td>16.091473</td>\n",
       "      <td>31.001640</td>\n",
       "      <td>2.081667</td>\n",
       "      <td>1.866188</td>\n",
       "      <td>-1.561601</td>\n",
       "      <td>30.914055</td>\n",
       "      <td>2.858746</td>\n",
       "      <td>7.922162</td>\n",
       "      <td>55.351719</td>\n",
       "    </tr>\n",
       "    <tr>\n",
       "      <th>1964</th>\n",
       "      <td>16.331043</td>\n",
       "      <td>31.335564</td>\n",
       "      <td>2.345833</td>\n",
       "      <td>1.675677</td>\n",
       "      <td>-0.907530</td>\n",
       "      <td>32.665569</td>\n",
       "      <td>2.761517</td>\n",
       "      <td>8.154409</td>\n",
       "      <td>55.670570</td>\n",
       "    </tr>\n",
       "  </tbody>\n",
       "</table>\n",
       "</div>"
      ],
      "text/plain": [
       "        ProfitK    ProfitY        RF  growthpop  priceinvt         PD  \\\n",
       "year                                                                    \n",
       "1960  14.234645  29.143753  2.101667   1.646313  -1.321805  28.767187   \n",
       "1961  14.418177  29.418518  1.855833   1.292520  -1.373270  33.813931   \n",
       "1962  15.298585  30.143707  1.725833   1.157498  -1.162756  29.106068   \n",
       "1963  16.091473  31.001640  2.081667   1.866188  -1.561601  30.914055   \n",
       "1964  16.331043  31.335564  2.345833   1.675677  -0.907530  32.665569   \n",
       "\n",
       "      growthTFP        ik     EmpPop  \n",
       "year                                  \n",
       "1960   0.647897  7.456101  56.108616  \n",
       "1961   1.891988  7.261791  55.354179  \n",
       "1962   3.314460  7.622490  55.513981  \n",
       "1963   2.858746  7.922162  55.351719  \n",
       "1964   2.761517  8.154409  55.670570  "
      ]
     },
     "metadata": {},
     "output_type": "display_data"
    },
    {
     "data": {
      "text/html": [
       "<div>\n",
       "<style scoped>\n",
       "    .dataframe tbody tr th:only-of-type {\n",
       "        vertical-align: middle;\n",
       "    }\n",
       "\n",
       "    .dataframe tbody tr th {\n",
       "        vertical-align: top;\n",
       "    }\n",
       "\n",
       "    .dataframe thead th {\n",
       "        text-align: right;\n",
       "    }\n",
       "</style>\n",
       "<table border=\"1\" class=\"dataframe\">\n",
       "  <thead>\n",
       "    <tr style=\"text-align: right;\">\n",
       "      <th></th>\n",
       "      <th>ProfitK</th>\n",
       "      <th>ProfitY</th>\n",
       "      <th>RF</th>\n",
       "      <th>growthpop</th>\n",
       "      <th>priceinvt</th>\n",
       "      <th>PD</th>\n",
       "      <th>growthTFP</th>\n",
       "      <th>ik</th>\n",
       "      <th>EmpPop</th>\n",
       "    </tr>\n",
       "  </thead>\n",
       "  <tbody>\n",
       "    <tr>\n",
       "      <th>count</th>\n",
       "      <td>57.000000</td>\n",
       "      <td>57.000000</td>\n",
       "      <td>57.000000</td>\n",
       "      <td>57.000000</td>\n",
       "      <td>57.000000</td>\n",
       "      <td>57.000000</td>\n",
       "      <td>57.000000</td>\n",
       "      <td>57.000000</td>\n",
       "      <td>57.000000</td>\n",
       "    </tr>\n",
       "    <tr>\n",
       "      <th>mean</th>\n",
       "      <td>14.346346</td>\n",
       "      <td>31.046356</td>\n",
       "      <td>1.414357</td>\n",
       "      <td>1.381947</td>\n",
       "      <td>-1.001414</td>\n",
       "      <td>38.333945</td>\n",
       "      <td>1.033962</td>\n",
       "      <td>7.749363</td>\n",
       "      <td>59.781546</td>\n",
       "    </tr>\n",
       "    <tr>\n",
       "      <th>std</th>\n",
       "      <td>1.269753</td>\n",
       "      <td>2.538903</td>\n",
       "      <td>1.995644</td>\n",
       "      <td>0.438917</td>\n",
       "      <td>1.296615</td>\n",
       "      <td>15.465343</td>\n",
       "      <td>1.618604</td>\n",
       "      <td>0.693920</td>\n",
       "      <td>2.719538</td>\n",
       "    </tr>\n",
       "    <tr>\n",
       "      <th>min</th>\n",
       "      <td>11.476599</td>\n",
       "      <td>27.352089</td>\n",
       "      <td>-2.533333</td>\n",
       "      <td>0.749057</td>\n",
       "      <td>-4.067451</td>\n",
       "      <td>18.496330</td>\n",
       "      <td>-3.801344</td>\n",
       "      <td>5.915066</td>\n",
       "      <td>55.351719</td>\n",
       "    </tr>\n",
       "    <tr>\n",
       "      <th>25%</th>\n",
       "      <td>13.559713</td>\n",
       "      <td>29.275795</td>\n",
       "      <td>-0.170000</td>\n",
       "      <td>1.022081</td>\n",
       "      <td>-1.778501</td>\n",
       "      <td>27.761936</td>\n",
       "      <td>0.119928</td>\n",
       "      <td>7.295365</td>\n",
       "      <td>57.774712</td>\n",
       "    </tr>\n",
       "    <tr>\n",
       "      <th>50%</th>\n",
       "      <td>14.230997</td>\n",
       "      <td>30.411072</td>\n",
       "      <td>1.451667</td>\n",
       "      <td>1.236426</td>\n",
       "      <td>-1.073029</td>\n",
       "      <td>33.334805</td>\n",
       "      <td>1.153324</td>\n",
       "      <td>7.883199</td>\n",
       "      <td>59.327110</td>\n",
       "    </tr>\n",
       "    <tr>\n",
       "      <th>75%</th>\n",
       "      <td>15.284401</td>\n",
       "      <td>31.860176</td>\n",
       "      <td>2.786667</td>\n",
       "      <td>1.675677</td>\n",
       "      <td>-0.097202</td>\n",
       "      <td>46.440563</td>\n",
       "      <td>2.176149</td>\n",
       "      <td>8.207948</td>\n",
       "      <td>62.339596</td>\n",
       "    </tr>\n",
       "    <tr>\n",
       "      <th>max</th>\n",
       "      <td>17.108320</td>\n",
       "      <td>36.831299</td>\n",
       "      <td>5.945833</td>\n",
       "      <td>2.749740</td>\n",
       "      <td>3.547138</td>\n",
       "      <td>89.555916</td>\n",
       "      <td>3.372487</td>\n",
       "      <td>9.171547</td>\n",
       "      <td>64.400581</td>\n",
       "    </tr>\n",
       "  </tbody>\n",
       "</table>\n",
       "</div>"
      ],
      "text/plain": [
       "         ProfitK    ProfitY         RF  growthpop  priceinvt         PD  \\\n",
       "count  57.000000  57.000000  57.000000  57.000000  57.000000  57.000000   \n",
       "mean   14.346346  31.046356   1.414357   1.381947  -1.001414  38.333945   \n",
       "std     1.269753   2.538903   1.995644   0.438917   1.296615  15.465343   \n",
       "min    11.476599  27.352089  -2.533333   0.749057  -4.067451  18.496330   \n",
       "25%    13.559713  29.275795  -0.170000   1.022081  -1.778501  27.761936   \n",
       "50%    14.230997  30.411072   1.451667   1.236426  -1.073029  33.334805   \n",
       "75%    15.284401  31.860176   2.786667   1.675677  -0.097202  46.440563   \n",
       "max    17.108320  36.831299   5.945833   2.749740   3.547138  89.555916   \n",
       "\n",
       "       growthTFP         ik     EmpPop  \n",
       "count  57.000000  57.000000  57.000000  \n",
       "mean    1.033962   7.749363  59.781546  \n",
       "std     1.618604   0.693920   2.719538  \n",
       "min    -3.801344   5.915066  55.351719  \n",
       "25%     0.119928   7.295365  57.774712  \n",
       "50%     1.153324   7.883199  59.327110  \n",
       "75%     2.176149   8.207948  62.339596  \n",
       "max     3.372487   9.171547  64.400581  "
      ]
     },
     "metadata": {},
     "output_type": "display_data"
    }
   ],
   "source": [
    "df = pd.read_csv(\"data/V3_timeseries__postrev_I1Y_19-Oct-2018.csv\")\n",
    "df = df[['year','ProfitK','ProfitY','RF', 'growthpop','priceinvt','PD','growthTFP','ik','EmpPop']]\n",
    "df = df.set_index('year')\n",
    "display(df.head())\n",
    "display(df.describe())"
   ]
  },
  {
   "cell_type": "markdown",
   "metadata": {},
   "source": [
    "# Moments"
   ]
  },
  {
   "cell_type": "code",
   "execution_count": 32,
   "metadata": {},
   "outputs": [
    {
     "name": "stdout",
     "output_type": "stream",
     "text": [
      "ProfitK    = 0.14012\n",
      "s_K        = 0.29887\n",
      "ik         = 0.08103\n",
      "PD         = 42.33588\n",
      "TFPgrowth  = 0.01100\n"
     ]
    }
   ],
   "source": [
    "moms.ProfitK = stat.mean(df.loc[1984:2000,\"ProfitK\"])/100\n",
    "moms.s_K = stat.mean(df.loc[1984:2000,\"ProfitY\"])/100\n",
    "moms.ik = stat.mean(df.loc[1984:2000,\"ik\"])/100\n",
    "moms.PD = stat.mean(df.loc[1984:2000,\"PD\"])\n",
    "moms.TFPgrowth = stat.mean(df.loc[1984:2000,\"growthTFP\"])/100\n",
    "\n",
    "for name in ['ProfitK','s_K','ik','PD','TFPgrowth']:\n",
    "    print(f'{name:10s} = {getattr(moms,name):.5f}')"
   ]
  },
  {
   "cell_type": "markdown",
   "metadata": {},
   "source": [
    "# Step 1\n",
    "\n",
    "Estimate $g_L$, $g_Q$ and $\\bar{N}$ directly from data"
   ]
  },
  {
   "cell_type": "code",
   "execution_count": 33,
   "metadata": {},
   "outputs": [
    {
     "name": "stdout",
     "output_type": "stream",
     "text": [
      "g_L   = 0.01171\n",
      "g_Q   = 0.01769\n",
      "N_bar = 0.62344\n"
     ]
    }
   ],
   "source": [
    "par.g_L = stat.mean(df.loc[1984:2000,\"growthpop\"])/100\n",
    "par.g_Q = -stat.mean(df.loc[1984:2000,\"priceinvt\"])/100 # note: negativ value used\n",
    "par.N_bar = stat.mean(df.loc[1984:2000,\"EmpPop\"])/100\n",
    "\n",
    "for name in ['g_L','g_Q','N_bar']:\n",
    "    print(f'{name:5s} = {getattr(par,name):.5f}')"
   ]
  },
  {
   "cell_type": "markdown",
   "metadata": {},
   "source": [
    "# Step 2"
   ]
  },
  {
   "cell_type": "markdown",
   "metadata": {},
   "source": [
    "Estimate $\\mu$, $\\alpha$, $\\delta$, $g_z$ by solving equation system"
   ]
  },
  {
   "cell_type": "code",
   "execution_count": 34,
   "metadata": {},
   "outputs": [],
   "source": [
    "def g_T(par):\n",
    "    par.g_T = (1+par.g_L)*((1+par.g_Z)**(1/(1-par.alpha)))*((1+par.g_Q)**(par.alpha/(1-par.alpha)))-1\n",
    "   \n",
    "def eq_footnote_15(par,moms):\n",
    "     return moms.TFPgrowth -(par.g_T-(1-moms.s_K)*par.g_L-moms.s_K*(par.g_T+par.g_Q))\n",
    "\n",
    "def eq_11(par,moms):\n",
    "    return (1+par.g_L)*((1+par.g_Z)**(1/(1-par.alpha)))*((1+par.g_Q)**(par.alpha/(1-par.alpha)))-(1+par.g_T)\n",
    "\n",
    "def eq_18(par,moms):\n",
    "    return (1+par.g_Q)*(1+par.g_T)-(1-par.delta) - moms.ik\n",
    "\n",
    "def eq_20(par,moms):\n",
    "    return (par.mu+par.alpha-1)/(par.mu)-moms.s_K"
   ]
  },
  {
   "cell_type": "code",
   "execution_count": 35,
   "metadata": {},
   "outputs": [],
   "source": [
    "def set_parameters(par,x):\n",
    "    \n",
    "    for name,value in zip(par.names,x):\n",
    "        setattr(par,name,value)\n",
    "    \n",
    "    # update g_T\n",
    "    g_T(par)\n",
    "    \n",
    "def set_x(par):\n",
    "    \n",
    "    x = np.zeros(len(par.names))\n",
    "    for i,name in enumerate(par.names):\n",
    "        x[i] = getattr(par,name)\n",
    "        \n",
    "    return x\n",
    "\n",
    "def eq_system(x,par,moms):\n",
    "    \n",
    "    # a. set parameters\n",
    "    set_parameters(par,x)            \n",
    "    \n",
    "    # c. evaluate equations\n",
    "    out = []\n",
    "    out.append(eq_footnote_15(par,moms))\n",
    "    out.append(eq_11(par,moms))\n",
    "    out.append(eq_18(par,moms))\n",
    "    out.append(eq_20(par,moms))\n",
    "\n",
    "    return out"
   ]
  },
  {
   "cell_type": "code",
   "execution_count": 36,
   "metadata": {},
   "outputs": [
    {
     "name": "stdout",
     "output_type": "stream",
     "text": [
      "mu         = 1.078575\n",
      "delta      = 0.027777\n",
      "alpha      = 0.243783\n",
      "g_Z        = 0.012980\n"
     ]
    }
   ],
   "source": [
    "# a. parameters to estimate\n",
    "par.names = ['mu','delta','alpha','g_Z']\n",
    "\n",
    "# b. guess\n",
    "par.mu = 1.078\n",
    "par.delta = 0.02778\n",
    "par.alpha = 0.244\n",
    "par.g_Z = 0.01298\n",
    "x = set_x(par)\n",
    "\n",
    "# c. solve\n",
    "solution = optimize.fsolve(eq_system, x, args=(par,moms), full_output=0)\n",
    "set_parameters(par,solution)\n",
    "\n",
    "# d. print result\n",
    "for name in par.names:\n",
    "    print(f'{name:10} = {getattr(par,name):4f}')"
   ]
  },
  {
   "cell_type": "markdown",
   "metadata": {},
   "source": [
    "# Step 3"
   ]
  },
  {
   "cell_type": "markdown",
   "metadata": {},
   "source": [
    "Estimate $\\beta$ and $p$"
   ]
  },
  {
   "cell_type": "code",
   "execution_count": 55,
   "metadata": {},
   "outputs": [],
   "source": [
    "# Calculate r_star\n",
    "par.r_star = ((1 + par.g_T ) / moms.PD ) + par.g_T\n",
    "# Find RF\n",
    "moms.RF = stat.mean(df.loc[1984:2000,\"RF\"])/100\n",
    "# Calculate g_PC\n",
    "par.g_PC = (1+par.g_T)/(1 + par.g_L) - 1"
   ]
  },
  {
   "cell_type": "markdown",
   "metadata": {},
   "source": [
    "Assumptions:"
   ]
  },
  {
   "cell_type": "code",
   "execution_count": 56,
   "metadata": {},
   "outputs": [],
   "source": [
    "#Shock size\n",
    "par.b = par.bh = 0.15\n",
    "#Risk aversion coefficient\n",
    "par.theta = 12\n",
    "#IES, sigma = 1/IES\n",
    "par.sigma = 0.5"
   ]
  },
  {
   "cell_type": "code",
   "execution_count": 57,
   "metadata": {},
   "outputs": [],
   "source": [
    "# define e^(r*-rf)\n",
    "exp_spread = math.exp(par.r_star - moms.RF)\n",
    "# Find analytical derivation of p in appendix\n",
    "par.p = (exp_spread - 1) / (((1 - par.b)**(-par.theta) + (1 + par.bh)**(-par.theta) -2) - exp_spread * ((1 - par.b)**(1-par.theta) + (1 + par.bh)**(1-par.theta) -2))"
   ]
  },
  {
   "cell_type": "code",
   "execution_count": 68,
   "metadata": {},
   "outputs": [],
   "source": [
    "par.rho = par.r_star - (par.sigma * par.g_PC + par.sigma * ((1-(1/par.sigma))/(1-par.theta)) * math.log(1 + par.p * ((1 - par.b)**(1-par.theta) + (1 + par.bh)**(1-par.theta) - 2)))\n",
    "par.beta = 1/(1+par.rho)"
   ]
  },
  {
   "cell_type": "code",
   "execution_count": 74,
   "metadata": {},
   "outputs": [
    {
     "name": "stdout",
     "output_type": "stream",
     "text": [
      "beta       = 0.960119\n",
      "mu         = 1.078575\n",
      "p          = 0.035884\n",
      "delta      = 0.027777\n",
      "alpha      = 0.243783\n",
      "g_L        = 0.011706\n",
      "g_Z        = 0.012980\n",
      "g_Q        = 0.017692\n",
      "N_bar      = 0.623442\n"
     ]
    }
   ],
   "source": [
    "#Print all results\n",
    "for name in ['beta','mu','p','delta','alpha','g_L', 'g_Z', 'g_Q', 'N_bar']:\n",
    "    print(f'{name:10} = {getattr(par,name):4f}')"
   ]
  },
  {
   "cell_type": "code",
   "execution_count": null,
   "metadata": {},
   "outputs": [],
   "source": []
  }
 ],
 "metadata": {
  "kernelspec": {
   "display_name": "Python 3",
   "language": "python",
   "name": "python3"
  },
  "language_info": {
   "codemirror_mode": {
    "name": "ipython",
    "version": 3
   },
   "file_extension": ".py",
   "mimetype": "text/x-python",
   "name": "python",
   "nbconvert_exporter": "python",
   "pygments_lexer": "ipython3",
   "version": "3.7.1"
  }
 },
 "nbformat": 4,
 "nbformat_minor": 2
}
