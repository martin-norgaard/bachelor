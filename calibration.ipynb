{
 "cells": [
  {
   "cell_type": "markdown",
   "metadata": {},
   "source": [
    "# Setup"
   ]
  },
  {
   "cell_type": "code",
   "execution_count": 1,
   "metadata": {},
   "outputs": [],
   "source": [
    "import numpy as np\n",
    "import pandas as pd\n",
    "import scipy as sp\n",
    "from scipy import optimize\n",
    "import statistics as stat\n",
    "from IPython.display import display\n",
    "\n",
    "class par: None\n",
    "class moms: None\n",
    "    \n",
    "# from farhi and gourio\n",
    "class true: None\n",
    "true.beta = 0.961\n",
    "true.mu = 1.079\n",
    "true.delta = 0.02778\n",
    "true.alpha = 0.244\n",
    "true.g_Z = 0.01298\n",
    "true.r_star = np.nan\n",
    "true.g_T = np.nan\n",
    "true.p = 0.034"
   ]
  },
  {
   "cell_type": "markdown",
   "metadata": {},
   "source": [
    "## Settings and assumptions"
   ]
  },
  {
   "cell_type": "code",
   "execution_count": 2,
   "metadata": {},
   "outputs": [],
   "source": [
    "# a. shock size\n",
    "par.b = -np.log(1-0.15)\n",
    "\n",
    "# b. risk aversion coefficient\n",
    "par.theta = 12\n",
    "\n",
    "# c. IES, sigma = 1/IES\n",
    "par.sigma = 0.5"
   ]
  },
  {
   "cell_type": "code",
   "execution_count": 3,
   "metadata": {},
   "outputs": [],
   "source": [
    "# Tries whether this file is called from main or internally\n",
    "# Ensures that we can run this code on it's own\n",
    "try: \n",
    "    called_from_main\n",
    "except: \n",
    "    country = \"US\"\n",
    "    start = 1984\n",
    "    end = 2000\n",
    "    called_from_main = 0 # if 0, print results in this notebook but don't store"
   ]
  },
  {
   "cell_type": "markdown",
   "metadata": {},
   "source": [
    "# Load data"
   ]
  },
  {
   "cell_type": "code",
   "execution_count": 4,
   "metadata": {},
   "outputs": [],
   "source": [
    "if country == \"UK\": \n",
    "    df = pd.read_csv(\"data/V3_timeseries__postrev_I1Y_19-Oct-2018-uk.csv\", sep=\";\")\n",
    "else: \n",
    "    df = pd.read_csv(\"data/V3_timeseries__postrev_I1Y_19-Oct-2018.csv\")\n",
    "    \n",
    "df = df[['year','ProfitK','ProfitY','RF', 'growthpop','priceinvt','PD','growthTFP','ik','EmpPop']]\n",
    "df = df.set_index('year')\n",
    "#display(df.head())\n",
    "#display(df.describe())"
   ]
  },
  {
   "cell_type": "markdown",
   "metadata": {},
   "source": [
    "# Moments"
   ]
  },
  {
   "cell_type": "code",
   "execution_count": 5,
   "metadata": {},
   "outputs": [],
   "source": [
    "# Start and end dates defined in main notebook\n",
    "moms.ProfitK = stat.mean(df.loc[start:end,\"ProfitK\"])/100\n",
    "moms.s_K = stat.mean(df.loc[start:end,\"ProfitY\"])/100\n",
    "moms.ik = stat.mean(df.loc[start:end,\"ik\"])/100\n",
    "moms.PD = stat.mean(df.loc[start:end,\"PD\"])\n",
    "moms.TFPgrowth = stat.mean(df.loc[start:end,\"growthTFP\"])/100\n",
    "moms.RF = stat.mean(df.loc[start:end,\"RF\"])/100 #used in step 3\n",
    "\n",
    "#for name in ['ProfitK','s_K','ik','PD','TFPgrowth','RF']:\n",
    "#    print(f'{name:10s} = {getattr(moms,name):.5f}')"
   ]
  },
  {
   "cell_type": "markdown",
   "metadata": {},
   "source": [
    "# Step 1\n",
    "\n",
    "Estimate $g_L$, $g_Q$ and $\\bar{N}$ directly from data"
   ]
  },
  {
   "cell_type": "code",
   "execution_count": 6,
   "metadata": {},
   "outputs": [],
   "source": [
    "par.g_L = stat.mean(df.loc[start:end,\"growthpop\"])/100\n",
    "par.g_Q = -stat.mean(df.loc[start:end,\"priceinvt\"])/100 # note: negativ value used\n",
    "par.N_bar = stat.mean(df.loc[start:end,\"EmpPop\"])/100\n",
    "\n",
    "#for name in ['g_L','g_Q','N_bar']:\n",
    "#    print(f'{name:5s} = {getattr(par,name):.5f}')"
   ]
  },
  {
   "cell_type": "markdown",
   "metadata": {},
   "source": [
    "# Step 2"
   ]
  },
  {
   "cell_type": "markdown",
   "metadata": {},
   "source": [
    "Estimate $\\mu$, $\\alpha$, $\\delta$, $g_z$ by solving equation system"
   ]
  },
  {
   "cell_type": "code",
   "execution_count": 7,
   "metadata": {},
   "outputs": [],
   "source": [
    "def eq_footnote_15(par,moms):\n",
    "     return moms.TFPgrowth - (par.g_T-(1-moms.s_K)*par.g_L-moms.s_K*(par.g_T+par.g_Q))\n",
    "\n",
    "def eq_11(par,moms):\n",
    "    return (1+par.g_T) - (1+par.g_L)*(1+par.g_Z)**(1/(1-par.alpha))*(1+par.g_Q)**(par.alpha/(1-par.alpha))\n",
    "\n",
    "def eq_15(par,moms):\n",
    "\n",
    "    qstar = 1 # normalization\n",
    "    beta_star = 1/(1+par.r_star)\n",
    "    \n",
    "    temp = (1+par.g_Q)/beta_star-(1-par.delta)\n",
    "    kstar = (temp*par.mu/(par.alpha*qstar))**(1/(par.alpha-1))*par.N_bar\n",
    "    ystar = kstar**par.alpha*par.N_bar**(1-par.alpha)\n",
    "    pistar = (par.mu+par.alpha-1)/par.mu*ystar\n",
    "\n",
    "    return moms.ProfitK-pistar/(kstar/qstar) \n",
    "    \n",
    "def eq_18(par,moms):\n",
    "    return (1+par.g_Q)*(1+par.g_T)-(1-par.delta) - moms.ik\n",
    "\n",
    "def eq_20(par,moms):\n",
    "    return moms.s_K - (par.mu+par.alpha-1)/(par.mu)\n",
    "\n",
    "def eq_23(par,moms):\n",
    "    beta_star = 1/(1+par.r_star)\n",
    "    return moms.PD - beta_star*(1+par.g_T)/(1-beta_star*(1+par.g_T))\n",
    "\n",
    "#def eq_27(par,moms):\n",
    "#    return moms.ProfitK - (par.mu+par.alpha-1)/par.alpha*(par.r_star+par.delta+par.g_Q)"
   ]
  },
  {
   "cell_type": "code",
   "execution_count": 8,
   "metadata": {},
   "outputs": [],
   "source": [
    "def set_parameters(par,x):\n",
    "    \n",
    "    for name,value in zip(par.names,x):\n",
    "        setattr(par,name,value)\n",
    "    \n",
    "def set_x(par):\n",
    "    \n",
    "    x = np.zeros(len(par.names))\n",
    "    for i,name in enumerate(par.names):\n",
    "        x[i] = getattr(par,name)\n",
    "        \n",
    "    return x\n",
    "\n",
    "def eq_system(x,par,moms):\n",
    "    \n",
    "    # a. set parameters\n",
    "    set_parameters(par,x)            \n",
    "    \n",
    "    # c. evaluate equations\n",
    "    out = []\n",
    "    out.append(eq_footnote_15(par,moms))\n",
    "    out.append(eq_11(par,moms))\n",
    "    out.append(eq_15(par,moms))          \n",
    "    out.append(eq_18(par,moms))\n",
    "    out.append(eq_20(par,moms))\n",
    "    out.append(eq_23(par,moms))\n",
    "\n",
    "    return out"
   ]
  },
  {
   "cell_type": "code",
   "execution_count": 9,
   "metadata": {},
   "outputs": [],
   "source": [
    "# a. parameters to estimate\n",
    "par.names = ['g_Z','g_T','delta','alpha','r_star','mu']\n",
    "\n",
    "# b. guess\n",
    "par.mu = 1.01\n",
    "par.delta = 0.025\n",
    "par.alpha = 0.25\n",
    "par.g_Z = 0.08 #0.02\n",
    "par.r_star = 0.05\n",
    "par.g_T = 0.04\n",
    "x = set_x(par)\n",
    "\n",
    "# c. solve\n",
    "solution = optimize.fsolve(eq_system, x, args=(par,moms), full_output=0)\n",
    "set_parameters(par,solution)\n",
    "\n",
    "# d. print result\n",
    "#for name in par.names:\n",
    "#    print(f'{name:10} = {getattr(par,name):.8f} [FH: {getattr(true,name):.4f}]')        "
   ]
  },
  {
   "cell_type": "markdown",
   "metadata": {},
   "source": [
    "# Step 3"
   ]
  },
  {
   "cell_type": "markdown",
   "metadata": {},
   "source": [
    "Estimate $\\beta$ and $p$"
   ]
  },
  {
   "cell_type": "code",
   "execution_count": 10,
   "metadata": {},
   "outputs": [],
   "source": [
    "def update_misc(par):\n",
    "    \n",
    "    par.beta_star = 1/(1+par.r_star)\n",
    "    par.bh = -np.log((2-np.exp(-par.b)))\n",
    "    par.g_PC = (1+par.g_T)/(1+par.g_L)-1\n",
    "    "
   ]
  },
  {
   "cell_type": "code",
   "execution_count": 11,
   "metadata": {},
   "outputs": [],
   "source": [
    "def find_p(p,par,moms):\n",
    "        \n",
    "    update_misc(par)        \n",
    "    MOM2 = ((1-2*p)+p*np.exp(-par.bh*(1-par.theta)) + p*np.exp(-par.b*(1-par.theta)))\n",
    "    MOM3 = ((1-2*p)+p*np.exp(-par.bh*(-par.theta)) + p*np.exp(-par.b*(-par.theta))) \n",
    "    \n",
    "    return moms.RF - (MOM2/(par.beta_star*MOM3)-1)"
   ]
  },
  {
   "cell_type": "code",
   "execution_count": 12,
   "metadata": {},
   "outputs": [],
   "source": [
    "par.p = optimize.fsolve(find_p, 0.02, args=(par,moms), full_output=0)[0]\n",
    "update_misc(par)"
   ]
  },
  {
   "cell_type": "code",
   "execution_count": 13,
   "metadata": {},
   "outputs": [],
   "source": [
    "MOM =  ((1-2*par.p)+par.p*np.exp(-par.bh*(1-par.theta)) + par.p*np.exp(-par.b*(1-par.theta)))**((1-par.sigma)/(1-par.theta)) \n",
    "par.beta = par.beta_star/((1+par.g_PC)**(-par.sigma)*MOM);"
   ]
  },
  {
   "cell_type": "markdown",
   "metadata": {},
   "source": [
    "# Store or print values"
   ]
  },
  {
   "cell_type": "code",
   "execution_count": 14,
   "metadata": {},
   "outputs": [
    {
     "name": "stdout",
     "output_type": "stream",
     "text": [
      "beta       = 0.960540\n",
      "mu         = 1.078717\n",
      "p          = 0.034146\n",
      "delta      = 0.027777\n",
      "alpha      = 0.243684\n",
      "g_L        = 0.011706\n",
      "g_Z        = 0.012984\n",
      "g_Q        = 0.017692\n",
      "N_bar      = 0.623442\n",
      "r_star     = 0.059389\n"
     ]
    }
   ],
   "source": [
    "# Collect and store results if called from main notebook\n",
    "if called_from_main == 1:\n",
    "\n",
    "    df_estimates = []\n",
    "    for name in ['beta','mu','p','delta','alpha','g_L', 'g_Z', 'g_Q', 'N_bar','r_star']:\n",
    "        df_estimates.append({'Name': name, str(start) + ' - ' + str(end):getattr(par,name)})\n",
    "            \n",
    "    df_estimates = pd.DataFrame(df_estimates)\n",
    "    df_estimates = df_estimates.set_index('Name')\n",
    "\n",
    "    # Magic - stores across notebooks\n",
    "    %store df_estimates\n",
    "    \n",
    "# Print results if not called from main notebook\n",
    "if called_from_main == 0: \n",
    "    for name in ['beta','mu','p','delta','alpha','g_L', 'g_Z', 'g_Q', 'N_bar','r_star']:\n",
    "        print(f'{name:10} = {getattr(par,name):4f}')\n",
    "    del called_from_main"
   ]
  },
  {
   "cell_type": "code",
   "execution_count": null,
   "metadata": {},
   "outputs": [],
   "source": []
  }
 ],
 "metadata": {
  "kernelspec": {
   "display_name": "Python 3",
   "language": "python",
   "name": "python3"
  },
  "language_info": {
   "codemirror_mode": {
    "name": "ipython",
    "version": 3
   },
   "file_extension": ".py",
   "mimetype": "text/x-python",
   "name": "python",
   "nbconvert_exporter": "python",
   "pygments_lexer": "ipython3",
   "version": "3.7.1"
  }
 },
 "nbformat": 4,
 "nbformat_minor": 2
}
