{
 "cells": [
  {
   "cell_type": "markdown",
   "metadata": {},
   "source": [
    "## Data Cleaning"
   ]
  },
  {
   "cell_type": "markdown",
   "metadata": {},
   "source": [
    "> This file selects relevant time series from the AMECO (2018 Fall edition) and from the JST dataset. Followingly it calculates relevant measured based on the time series. If running for the first time, concacenate the seperate AMECO-tables. Also you may install all relevant packages the analysis of the model. "
   ]
  },
  {
   "cell_type": "code",
   "execution_count": null,
   "metadata": {},
   "outputs": [],
   "source": [
    "#Settings\n",
    "install_packages = False\n",
    "concacenate = True\n",
    "\n",
    "#Install packages\n",
    "if install_packages == True:   \n",
    "    !pip install numpy\n",
    "    !pip install pandas\n",
    "    !pip install scipy\n",
    "    !pip install statistics\n",
    "    !pip install more-itertools\n",
    "    !pip install tabulate\n",
    "\n",
    "#concacenate csv-file\n",
    "if concacenate == 1:\n",
    "    file_names = [f'data/AMECO_seperate/AMECO{i}.csv' for i in [\"1\",\"2\",\"3\",\"4\",\"5\",\"6\",\"7\",\"8\",\"9\",\"10\",\"11\",\"12\",\"13\"]]\n",
    "    combined_csv = pd.concat([pd.read_csv(f, sep=\";\") for f in file_names])\n",
    "    combined_csv.to_csv('data/AMECO.csv', sep=\";\", index = False)\n",
    "\n",
    "#Import libraries\n",
    "import pandas as pd"
   ]
  },
  {
   "cell_type": "code",
   "execution_count": null,
   "metadata": {},
   "outputs": [],
   "source": [
    "AMECO = pd.read_csv(\"data/AMECO.csv\", sep=\";\")\n",
    "\n",
    "def get_ameco(code,ISO):\n",
    "    code = str(code)\n",
    "    ISO = str(ISO)\n",
    "    identifier = ISO + \".\" + code\n",
    "    return AMECO[AMECO[\"CODE\"] == identifier]\n",
    "\n",
    "df_jst = pd.read_stata(\"http://macrohistory.net/JST/JSTdatasetR4.dta\", columns =[\"year\", \"iso\", \"eq_dp\"])\n",
    "df_jst['year'] = df_jst['year'].astype(int)\n",
    "\n",
    "df_pwt = pd.read_stata(\"https://www.rug.nl/ggdc/docs/pwt91.dta\", columns =[\"year\", \"countrycode\", \"labsh\"])\n",
    "df_pwt['year'] = df_pwt['year'].astype(int)\n",
    "\n",
    "def get_jst(iso):\n",
    "    return df_jst[(df_jst[\"iso\"]==iso) & df_jst['year'].isin(range(1960,2015+1))].loc[:,\"eq_dp\"].tolist()\n",
    "\n",
    "def get_pwt(iso):\n",
    "    return df_pwt[(df_pwt[\"countrycode\"]==iso) & df_pwt['year'].isin(range(1960,2015+1))].loc[:,\"labsh\"].tolist()\n",
    "\n",
    "codes = ['1.0.0.0.NPTD','3.1.0.0.PIGT','3.0.0.0.ZCPIN','1.0.0.0.NLTN','3.0.0.0.ZVGDF','1.0.0.0.ALCD0','1.1.0.0.OIGT','1.0.0.0.OKND','1.0.0.0.AKNDV','1.3.0.0.ISRC','1.0.0.0.NETD','1.0.0.0.NPAN','1.0.0.0.NPON','1.0.0.0.ALCD2','1.0.0.0.UWCD','1.0.0.0.UVGD','1.0.0.0.AVGDK','1.0.0.0.OKND','1.0.0.0.UYGD']\n",
    "countries = ['BEL','DNK','FIN','FRA','ITA','JPN','NLD','GBR','USA'] #FIN from 1970, JAP from 1981, all others from 1961"
   ]
  },
  {
   "cell_type": "code",
   "execution_count": null,
   "metadata": {},
   "outputs": [],
   "source": [
    "parts = []\n",
    "for ISO in countries:\n",
    "    \n",
    "    #Create dfx with all series for country\n",
    "    dfx = pd.DataFrame()\n",
    "    for code in codes:\n",
    "        data = get_ameco(code,ISO).loc[:,\"1960\":\"2015\"]\n",
    "        data = data.transpose()\n",
    "        data.columns = [code]\n",
    "        dfx[code] = data[code]\n",
    "\n",
    "    dfx[\"eq_dp\"] = get_jst(ISO)\n",
    "    dfx[\"labsh\"] = get_pwt(ISO)\n",
    "    dfx[\"ISO\"] = ISO\n",
    "    dfx[\"year\"] = dfx.index.tolist()\n",
    "    dfx.reset_index(drop=True)\n",
    "    #End\n",
    "    parts.append(dfx)\n",
    "    \n",
    "df_data = pd.concat(parts, ignore_index = True)\n",
    "\n",
    "df_calc = pd.DataFrame()\n",
    "df_calc[\"ISO\"] = df_data['ISO']\n",
    "df_calc[\"year\"] = df_data['year']\n",
    "\n",
    "#Manipulating time series\n",
    "df_calc['rf'] = df_data['1.3.0.0.ISRC']\n",
    "df_calc[\"PD\"] = 1/df_data['eq_dp']\n",
    "df_calc[\"XK\"] = df_data['1.1.0.0.OIGT']/df_data['1.0.0.0.OKND'] *100\n",
    "df_calc['EmpPop'] = df_data['1.0.0.0.NETD']/df_data['1.0.0.0.NPTD']*100#(df_data['1.0.0.0.NPON']+df_data['1.0.0.0.NPAN']) *100\n",
    "df_calc['CapShare'] = 100 - (df_data['1.0.0.0.ALCD0']) # ALCD0 for market prices, ALCD2 for factor\n",
    "df_calc['AvgRet'] = df_calc['CapShare']/df_data['1.0.0.0.AKNDV']\n",
    "\n",
    "\n",
    "#Growth rates\n",
    "PopGrowth = [df_data[(df_data['ISO']==ISO)][\"1.0.0.0.NPTD\"].pct_change()*100 for ISO in countries]\n",
    "df_calc['PopGrowth'] = pd.concat(PopGrowth, ignore_index = True)\n",
    "\n",
    "TFPgrowth = [df_data[(df_data['ISO']==ISO)][\"3.0.0.0.ZVGDF\"].pct_change()*100 for ISO in countries]\n",
    "df_calc['TFPgrowth'] = pd.concat(TFPgrowth, ignore_index = True)\n",
    "\n",
    "df_data['temp'] = df_data['3.1.0.0.PIGT']/df_data['3.0.0.0.ZCPIN']\n",
    "\n",
    "PriceInvt = [df_data[(df_data['ISO']==ISO)][\"temp\"].pct_change()*100 for ISO in countries]\n",
    "df_calc['PriceInvt'] = pd.concat(PriceInvt, ignore_index = True)\n",
    "\n",
    "df_data = df_data.drop(columns=\"temp\")\n",
    "df_calc = df_calc.set_index('year')\n",
    "df_calc.to_csv(\"data/data.csv\" ,sep=\";\", index=True)"
   ]
  }
 ],
 "metadata": {
  "kernelspec": {
   "display_name": "Python 3",
   "language": "python",
   "name": "python3"
  },
  "language_info": {
   "codemirror_mode": {
    "name": "ipython",
    "version": 3
   },
   "file_extension": ".py",
   "mimetype": "text/x-python",
   "name": "python",
   "nbconvert_exporter": "python",
   "pygments_lexer": "ipython3",
   "version": "3.7.3"
  }
 },
 "nbformat": 4,
 "nbformat_minor": 2
}
