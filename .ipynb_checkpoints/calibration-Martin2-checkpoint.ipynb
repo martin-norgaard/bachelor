{
 "cells": [
  {
   "cell_type": "markdown",
   "metadata": {},
   "source": [
    "# Setup"
   ]
  },
  {
   "cell_type": "code",
   "execution_count": 196,
   "metadata": {},
   "outputs": [],
   "source": [
    "import numpy as np\n",
    "import pandas as pd\n",
    "import scipy as sp\n",
    "from scipy import optimize\n",
    "import statistics as stat\n",
    "from IPython.display import display\n",
    "\n",
    "class par: None\n",
    "class moms: None\n",
    "    \n",
    "# from farhi and gourio\n",
    "class true: None\n",
    "true.beta = 0.961\n",
    "true.mu = 1.079\n",
    "true.delta = 0.02778\n",
    "true.alpha = 0.244\n",
    "true.g_Z = 0.01298\n",
    "true.r_star = np.nan\n",
    "true.g_T = np.nan\n",
    "true.p = 0.034"
   ]
  },
  {
   "cell_type": "markdown",
   "metadata": {},
   "source": [
    "## Settings and assumptions"
   ]
  },
  {
   "cell_type": "code",
   "execution_count": 197,
   "metadata": {},
   "outputs": [],
   "source": [
    "# a. shock size\n",
    "par.b = -np.log(1-0.15)\n",
    "\n",
    "# b. risk aversion coefficient\n",
    "par.theta = 12\n",
    "\n",
    "# c. IES, sigma = 1/IES\n",
    "par.sigma = 0.5"
   ]
  },
  {
   "cell_type": "code",
   "execution_count": 198,
   "metadata": {},
   "outputs": [],
   "source": [
    "# Tries whether this file is called from main or internally\n",
    "# Ensures that we can run this code on it's own\n",
    "try: \n",
    "    called_from_main\n",
    "except: \n",
    "    country = \"UK\"\n",
    "    start = 1984\n",
    "    end = 2000\n",
    "    called_from_main = 0 # if 0, print results in this notebook but don't store"
   ]
  },
  {
   "cell_type": "markdown",
   "metadata": {},
   "source": [
    "# Load data"
   ]
  },
  {
   "cell_type": "code",
   "execution_count": 199,
   "metadata": {},
   "outputs": [],
   "source": [
    "country = \"JPN\"\n",
    "df = pd.read_csv(\"data/data.csv\", sep=\";\", index_col=\"year\")\n",
    "df = df[df[\"ISO\"]==country]\n",
    "#display(df.head())\n",
    "#display(df.describe())"
   ]
  },
  {
   "cell_type": "markdown",
   "metadata": {},
   "source": [
    "# Moments"
   ]
  },
  {
   "cell_type": "code",
   "execution_count": 200,
   "metadata": {},
   "outputs": [
    {
     "name": "stdout",
     "output_type": "stream",
     "text": [
      "ProfitK    = 0.23010\n",
      "ProfitY    = 0.34969\n",
      "XK         = 0.10700\n",
      "PD         = 138.25553\n",
      "TFPgrowth  = 0.01248\n",
      "RF         = 0.02663\n"
     ]
    }
   ],
   "source": [
    "# Start and end dates defined in main notebook\n",
    "moms.ProfitK = stat.mean(df.loc[start:end,\"ProfitK\"])/100\n",
    "moms.ProfitY = stat.mean(df.loc[start:end,\"ProfitY\"])/100\n",
    "moms.XK = stat.mean(df.loc[start:end,\"XK\"])/100\n",
    "moms.PD = stat.mean(df.loc[start:end,\"PD\"])\n",
    "moms.TFPgrowth = stat.mean(df.loc[start:end,\"TFPgrowth\"])/100\n",
    "moms.RF = stat.mean(df.loc[start:end,\"RF\"])/100 #used in step 3\n",
    "\n",
    "for name in ['ProfitK','ProfitY','XK','PD','TFPgrowth','RF']:\n",
    "    print(f'{name:10s} = {getattr(moms,name):.5f}')"
   ]
  },
  {
   "cell_type": "code",
   "execution_count": 201,
   "metadata": {},
   "outputs": [],
   "source": [
    "#df[[\"ProfitK\",'ProfitY','RF','PopGrowth','PriceInvt','PD','TFPgrowth','XK','EmpPop']]"
   ]
  },
  {
   "cell_type": "code",
   "execution_count": null,
   "metadata": {},
   "outputs": [],
   "source": []
  },
  {
   "cell_type": "markdown",
   "metadata": {},
   "source": [
    "# Step 1\n",
    "\n",
    "Estimate $g_L$, $g_Q$ and $\\bar{N}$ directly from data"
   ]
  },
  {
   "cell_type": "code",
   "execution_count": 202,
   "metadata": {},
   "outputs": [
    {
     "name": "stdout",
     "output_type": "stream",
     "text": [
      "g_L   = 0.00337\n",
      "g_Q   = 0.01138\n",
      "N_bar = 0.51944\n"
     ]
    }
   ],
   "source": [
    "par.g_L = stat.mean(df.loc[start:end,\"PopGrowth\"])/100\n",
    "par.g_Q = -stat.mean(df.loc[start:end,\"PriceInvt\"])/100 # note: negativ value used\n",
    "par.N_bar = stat.mean(df.loc[start:end,\"EmpPop\"])/100\n",
    "\n",
    "for name in ['g_L','g_Q','N_bar']:\n",
    "    print(f'{name:5s} = {getattr(par,name):.5f}')"
   ]
  },
  {
   "cell_type": "markdown",
   "metadata": {},
   "source": [
    "# Step 2"
   ]
  },
  {
   "cell_type": "markdown",
   "metadata": {},
   "source": [
    "Estimate $\\mu$, $\\alpha$, $\\delta$, $g_z$ by solving equation system"
   ]
  },
  {
   "cell_type": "code",
   "execution_count": 203,
   "metadata": {},
   "outputs": [],
   "source": [
    "def eq_footnote_15(par,moms):\n",
    "     return moms.TFPgrowth - (par.g_T-(1-moms.ProfitY)*par.g_L-moms.ProfitY*(par.g_T+par.g_Q))\n",
    "\n",
    "def eq_11(par,moms):\n",
    "    return (1+par.g_T) - (1+par.g_L)*(1+par.g_Z)**(1/(1-par.alpha))*(1+par.g_Q)**(par.alpha/(1-par.alpha))\n",
    "\n",
    "def eq_15(par,moms):\n",
    "    par.beta_star = 1/(1+par.r_star)\n",
    "    return moms.ProfitK - ((par.mu+par.alpha-1)/par.alpha)*(par.r_star + par.delta + par.g_Q/par.beta_star) \n",
    "    \n",
    "def eq_18(par,moms):\n",
    "    return moms.XK - ((1+par.g_Q)*(1+par.g_T)-(1-par.delta))\n",
    "\n",
    "def eq_20(par,moms):\n",
    "    return moms.ProfitY - (par.mu+par.alpha-1)/(par.mu)\n",
    "\n",
    "def eq_23(par,moms):\n",
    "    par.beta_star = 1/(1+par.r_star)\n",
    "    return moms.PD - par.beta_star*(1+par.g_T)/(1-par.beta_star*(1+par.g_T))\n",
    "\n",
    "#def eq_27(par,moms):\n",
    "#    return moms.ProfitK - (par.mu+par.alpha-1)/par.alpha*(par.r_star+par.delta+par.g_Q)"
   ]
  },
  {
   "cell_type": "code",
   "execution_count": 204,
   "metadata": {},
   "outputs": [],
   "source": [
    "def set_parameters(par,x):\n",
    "    \n",
    "    for name,value in zip(par.names,x):\n",
    "        setattr(par,name,value)\n",
    "    \n",
    "def set_x(par):\n",
    "    \n",
    "    x = np.zeros(len(par.names))\n",
    "    for i,name in enumerate(par.names):\n",
    "        x[i] = getattr(par,name)\n",
    "        \n",
    "    return x\n",
    "\n",
    "def eq_system(x,par,moms):\n",
    "    \n",
    "    # a. set parameters\n",
    "    set_parameters(par,x)            \n",
    "    \n",
    "    # c. evaluate equations\n",
    "    out = []\n",
    "    out.append(eq_footnote_15(par,moms))\n",
    "    out.append(eq_11(par,moms))\n",
    "    out.append(eq_15(par,moms))          \n",
    "    out.append(eq_18(par,moms))\n",
    "    out.append(eq_20(par,moms))\n",
    "    out.append(eq_23(par,moms))\n",
    "\n",
    "    return out"
   ]
  },
  {
   "cell_type": "code",
   "execution_count": 205,
   "metadata": {},
   "outputs": [],
   "source": [
    "# a. parameters to estimate\n",
    "par.names = ['g_Z','g_T','delta','alpha','r_star','mu']\n",
    "\n",
    "# b. guess\n",
    "par.mu = 1.01\n",
    "par.delta = 0.025\n",
    "par.alpha = 0.25\n",
    "par.g_Z = 0.08 #0.02\n",
    "par.r_star = 0.05\n",
    "par.g_T = 0.04\n",
    "x = set_x(par)\n",
    "\n",
    "# c. solve\n",
    "solution = optimize.fsolve(eq_system, x, args=(par,moms), full_output=0)\n",
    "set_parameters(par,solution)\n",
    "\n",
    "# d. print result\n",
    "#for name in par.names:\n",
    "#    print(f'{name:10} = {getattr(par,name):.8f} [FH: {getattr(true,name):.4f}]')        "
   ]
  },
  {
   "cell_type": "markdown",
   "metadata": {},
   "source": [
    "# Step 3"
   ]
  },
  {
   "cell_type": "markdown",
   "metadata": {},
   "source": [
    "Estimate $\\beta$ and $p$"
   ]
  },
  {
   "cell_type": "code",
   "execution_count": 206,
   "metadata": {},
   "outputs": [],
   "source": [
    "def update_misc(par):\n",
    "    \n",
    "    par.beta_star = 1/(1+par.r_star)\n",
    "    par.bh = -np.log((2-np.exp(-par.b)))\n",
    "    par.g_PC = (1+par.g_T)/(1+par.g_L)-1\n",
    "    "
   ]
  },
  {
   "cell_type": "code",
   "execution_count": 207,
   "metadata": {},
   "outputs": [],
   "source": [
    "def find_p(p,par,moms):\n",
    "        \n",
    "    update_misc(par)        \n",
    "    MOM2 = ((1-2*p)+p*np.exp(-par.bh*(1-par.theta)) + p*np.exp(-par.b*(1-par.theta)))\n",
    "    MOM3 = ((1-2*p)+p*np.exp(-par.bh*(-par.theta)) + p*np.exp(-par.b*(-par.theta))) \n",
    "    \n",
    "    return moms.RF - (MOM2/(par.beta_star*MOM3)-1)"
   ]
  },
  {
   "cell_type": "code",
   "execution_count": 208,
   "metadata": {},
   "outputs": [],
   "source": [
    "par.p = optimize.fsolve(find_p, 0.02, args=(par,moms), full_output=0)[0]\n",
    "update_misc(par)"
   ]
  },
  {
   "cell_type": "code",
   "execution_count": 209,
   "metadata": {},
   "outputs": [],
   "source": [
    "MOM =  ((1-2*par.p)+par.p*np.exp(-par.bh*(1-par.theta)) + par.p*np.exp(-par.b*(1-par.theta)))**((1-par.sigma)/(1-par.theta)) \n",
    "par.beta = par.beta_star/((1+par.g_PC)**(-par.sigma)*MOM);"
   ]
  },
  {
   "cell_type": "markdown",
   "metadata": {},
   "source": [
    "# Store or print values"
   ]
  },
  {
   "cell_type": "code",
   "execution_count": 210,
   "metadata": {},
   "outputs": [
    {
     "name": "stdout",
     "output_type": "stream",
     "text": [
      "beta       = 0.978942\n",
      "mu         = 1.213058\n",
      "p          = 0.009362\n",
      "delta      = 0.066611\n",
      "alpha      = 0.211136\n",
      "g_L        = 0.003374\n",
      "g_Z        = 0.017414\n",
      "g_Q        = 0.011381\n",
      "N_bar      = 0.519445\n"
     ]
    }
   ],
   "source": [
    "# Collect and store results if called from main notebook\n",
    "if called_from_main == 1:\n",
    "\n",
    "    df_estimates = []\n",
    "    for name in ['beta','mu','p','delta','alpha','g_L', 'g_Z', 'g_Q', 'N_bar']:\n",
    "        df_estimates.append({'Name': name, str(start) + ' - ' + str(end):getattr(par,name)})\n",
    "            \n",
    "    df_estimates = pd.DataFrame(df_estimates)\n",
    "    df_estimates = df_estimates.set_index('Name')\n",
    "\n",
    "    # Magic - stores across notebooks\n",
    "    %store df_estimates\n",
    "    \n",
    "# Print results if not called from main notebook\n",
    "if called_from_main == 0: \n",
    "    for name in ['beta','mu','p','delta','alpha','g_L', 'g_Z', 'g_Q', 'N_bar']:\n",
    "        print(f'{name:10} = {getattr(par,name):4f}')\n",
    "    del called_from_main"
   ]
  },
  {
   "cell_type": "code",
   "execution_count": null,
   "metadata": {},
   "outputs": [],
   "source": []
  }
 ],
 "metadata": {
  "kernelspec": {
   "display_name": "Python 3",
   "language": "python",
   "name": "python3"
  },
  "language_info": {
   "codemirror_mode": {
    "name": "ipython",
    "version": 3
   },
   "file_extension": ".py",
   "mimetype": "text/x-python",
   "name": "python",
   "nbconvert_exporter": "python",
   "pygments_lexer": "ipython3",
   "version": "3.7.3"
  }
 },
 "nbformat": 4,
 "nbformat_minor": 2
}
