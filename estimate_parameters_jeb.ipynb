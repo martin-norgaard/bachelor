{
 "cells": [
  {
   "cell_type": "markdown",
   "metadata": {},
   "source": [
    "# Estimate parameters"
   ]
  },
  {
   "cell_type": "code",
   "execution_count": 2,
   "metadata": {},
   "outputs": [],
   "source": [
    "# Import libraries\n",
    "import statistics as stat\n",
    "import pandas as pd\n",
    "from scipy import optimize,arange\n",
    "import numpy as np\n",
    "from IPython.display import Image"
   ]
  },
  {
   "cell_type": "code",
   "execution_count": 3,
   "metadata": {},
   "outputs": [],
   "source": [
    "# Load data\n",
    "df = pd.read_csv(\"data/V3_timeseries__postrev_I1Y_19-Oct-2018.csv\")\n",
    "#df = pd.read_csv(r\"C:\\Users\\Martin Nørgaard\\Documents\\GitHub\\bachelor\\data\\V3_timeseries__postrev_I1Y_19-Oct-2018.csv\")\n",
    "df_focus = df[['year','ProfitK','ProfitY','RF', 'growthpop','priceinvt','PD','growthTFP','ik','EmpPop']]\n",
    "df_focus = df_focus.set_index('year')"
   ]
  },
  {
   "cell_type": "code",
   "execution_count": 4,
   "metadata": {},
   "outputs": [
    {
     "data": {
      "text/html": [
       "<div>\n",
       "<style scoped>\n",
       "    .dataframe tbody tr th:only-of-type {\n",
       "        vertical-align: middle;\n",
       "    }\n",
       "\n",
       "    .dataframe tbody tr th {\n",
       "        vertical-align: top;\n",
       "    }\n",
       "\n",
       "    .dataframe thead th {\n",
       "        text-align: right;\n",
       "    }\n",
       "</style>\n",
       "<table border=\"1\" class=\"dataframe\">\n",
       "  <thead>\n",
       "    <tr style=\"text-align: right;\">\n",
       "      <th></th>\n",
       "      <th>ProfitK</th>\n",
       "      <th>ProfitY</th>\n",
       "      <th>RF</th>\n",
       "      <th>growthpop</th>\n",
       "      <th>priceinvt</th>\n",
       "      <th>PD</th>\n",
       "      <th>growthTFP</th>\n",
       "      <th>ik</th>\n",
       "      <th>EmpPop</th>\n",
       "    </tr>\n",
       "    <tr>\n",
       "      <th>year</th>\n",
       "      <th></th>\n",
       "      <th></th>\n",
       "      <th></th>\n",
       "      <th></th>\n",
       "      <th></th>\n",
       "      <th></th>\n",
       "      <th></th>\n",
       "      <th></th>\n",
       "      <th></th>\n",
       "    </tr>\n",
       "  </thead>\n",
       "  <tbody>\n",
       "    <tr>\n",
       "      <th>1960</th>\n",
       "      <td>14.234645</td>\n",
       "      <td>29.143753</td>\n",
       "      <td>2.101667</td>\n",
       "      <td>1.646313</td>\n",
       "      <td>-1.321805</td>\n",
       "      <td>28.767187</td>\n",
       "      <td>0.647897</td>\n",
       "      <td>7.456101</td>\n",
       "      <td>56.108616</td>\n",
       "    </tr>\n",
       "    <tr>\n",
       "      <th>1961</th>\n",
       "      <td>14.418177</td>\n",
       "      <td>29.418518</td>\n",
       "      <td>1.855833</td>\n",
       "      <td>1.292520</td>\n",
       "      <td>-1.373270</td>\n",
       "      <td>33.813931</td>\n",
       "      <td>1.891988</td>\n",
       "      <td>7.261791</td>\n",
       "      <td>55.354179</td>\n",
       "    </tr>\n",
       "    <tr>\n",
       "      <th>1962</th>\n",
       "      <td>15.298585</td>\n",
       "      <td>30.143707</td>\n",
       "      <td>1.725833</td>\n",
       "      <td>1.157498</td>\n",
       "      <td>-1.162756</td>\n",
       "      <td>29.106068</td>\n",
       "      <td>3.314460</td>\n",
       "      <td>7.622490</td>\n",
       "      <td>55.513981</td>\n",
       "    </tr>\n",
       "    <tr>\n",
       "      <th>1963</th>\n",
       "      <td>16.091473</td>\n",
       "      <td>31.001640</td>\n",
       "      <td>2.081667</td>\n",
       "      <td>1.866188</td>\n",
       "      <td>-1.561601</td>\n",
       "      <td>30.914055</td>\n",
       "      <td>2.858746</td>\n",
       "      <td>7.922162</td>\n",
       "      <td>55.351719</td>\n",
       "    </tr>\n",
       "    <tr>\n",
       "      <th>1964</th>\n",
       "      <td>16.331043</td>\n",
       "      <td>31.335564</td>\n",
       "      <td>2.345833</td>\n",
       "      <td>1.675677</td>\n",
       "      <td>-0.907530</td>\n",
       "      <td>32.665569</td>\n",
       "      <td>2.761517</td>\n",
       "      <td>8.154409</td>\n",
       "      <td>55.670570</td>\n",
       "    </tr>\n",
       "  </tbody>\n",
       "</table>\n",
       "</div>"
      ],
      "text/plain": [
       "        ProfitK    ProfitY        RF  growthpop  priceinvt         PD  \\\n",
       "year                                                                    \n",
       "1960  14.234645  29.143753  2.101667   1.646313  -1.321805  28.767187   \n",
       "1961  14.418177  29.418518  1.855833   1.292520  -1.373270  33.813931   \n",
       "1962  15.298585  30.143707  1.725833   1.157498  -1.162756  29.106068   \n",
       "1963  16.091473  31.001640  2.081667   1.866188  -1.561601  30.914055   \n",
       "1964  16.331043  31.335564  2.345833   1.675677  -0.907530  32.665569   \n",
       "\n",
       "      growthTFP        ik     EmpPop  \n",
       "year                                  \n",
       "1960   0.647897  7.456101  56.108616  \n",
       "1961   1.891988  7.261791  55.354179  \n",
       "1962   3.314460  7.622490  55.513981  \n",
       "1963   2.858746  7.922162  55.351719  \n",
       "1964   2.761517  8.154409  55.670570  "
      ]
     },
     "execution_count": 4,
     "metadata": {},
     "output_type": "execute_result"
    }
   ],
   "source": [
    "df_focus.head()"
   ]
  },
  {
   "cell_type": "markdown",
   "metadata": {},
   "source": [
    "## First subsample"
   ]
  },
  {
   "cell_type": "markdown",
   "metadata": {},
   "source": [
    "### Population growth, investment-specific progress, TFP growth and labour supply"
   ]
  },
  {
   "cell_type": "markdown",
   "metadata": {},
   "source": [
    "Farhi and Gourio (2018) use measured equivalents for the following model variables:"
   ]
  },
  {
   "cell_type": "code",
   "execution_count": 16,
   "metadata": {},
   "outputs": [
    {
     "name": "stdout",
     "output_type": "stream",
     "text": [
      "g_L = 0.01170647427647059\n",
      "g_Q = -0.01769225337647059\n",
      "N_bar = 0.6234416447058824\n",
      "g_Z = 0.011003753694117647\n"
     ]
    }
   ],
   "source": [
    "# Population growth (moment) = population growth (parameter)\n",
    "g_L = stat.mean(df_focus.loc[1984:2000,\"growthpop\"])/100\n",
    "print(\"g_L = \" + str(g_L))\n",
    "\n",
    "# Investment price growth (moment) = investment-specific progress (parameter)\n",
    "g_Q = stat.mean(df_focus.loc[1984:2000,\"priceinvt\"])/100\n",
    "print(\"g_Q = \" + str(g_Q))\n",
    "\n",
    "# Employment-population ratio (moment) = labour supply (parameter)\n",
    "N_bar = stat.mean(df_focus.loc[1984:2000,\"EmpPop\"])/100\n",
    "print(\"N_bar = \" + str(N_bar))\n",
    "\n",
    "# TFP growth (moment) = TFP growth (parameter)\n",
    "g_Z = stat.mean(df_focus.loc[1984:2000,\"growthTFP\"])/100\n",
    "print(\"g_Z = \" + str(g_Z))"
   ]
  },
  {
   "cell_type": "markdown",
   "metadata": {},
   "source": [
    "### Further moment conditions"
   ]
  },
  {
   "cell_type": "markdown",
   "metadata": {},
   "source": [
    "GDP trend growth may be derived from:"
   ]
  },
  {
   "cell_type": "markdown",
   "metadata": {},
   "source": [
    "\\begin{align}\n",
    "1 + g_T = (1 + g_L )(1+ g_Z)^{\\frac{1}{1-\\alpha}}(1+ g_Q)^{\\frac{1}{1-\\alpha}} \\tag{eq. 11} \n",
    "\\end{align}"
   ]
  },
  {
   "cell_type": "markdown",
   "metadata": {},
   "source": [
    "The following equations in Farhi and Gourio (2018) are the applied moment conditions, cf. section IV.B on identification:"
   ]
  },
  {
   "cell_type": "markdown",
   "metadata": {},
   "source": [
    "\\begin{align}\n",
    "\\frac{I}{K} = \\frac{\\Pi}{K / Q} & \\simeq \\delta+g_{Q}+g_{T} \\tag{eq. 18} \\\\\n",
    "\\frac{P^{\\star}}{D^{\\star}} & \\simeq \\frac{1+g_{T}}{r^{\\star}-g_{T}} \\tag{eq. 23} \\\\\n",
    "s_{K} = \\frac{\\Pi}{Y} = 1-s_{L} & =\\frac{\\mu+\\alpha-1}{\\mu} \\tag{eq. 20}\\\\\n",
    "MPK = \\frac{\\Pi}{K} & =\\frac{\\mu+\\alpha-1}{\\alpha}\\left(r^{\\star}+\\delta+g_{Q}\\right) \\tag{eq. 27}\n",
    "\\end{align}"
   ]
  },
  {
   "cell_type": "markdown",
   "metadata": {},
   "source": [
    "We calculate the measured moments (mean values) - M# in parenthesis indicate momentnumbering from Farhi and Gourio pp. 172-173:"
   ]
  },
  {
   "cell_type": "code",
   "execution_count": 17,
   "metadata": {},
   "outputs": [
    {
     "name": "stdout",
     "output_type": "stream",
     "text": [
      "Profit/K = 0.14011972529411765\n",
      "s_K = 0.29887441294117645\n",
      "I/K = 0.08102986358823529\n",
      "P/D = 0.4233587782352941\n"
     ]
    }
   ],
   "source": [
    "# Gross Profitability (M1)\n",
    "ProfitK = stat.mean(df_focus.loc[1984:2000,\"ProfitK\"])/100\n",
    "print(\"Profit/K = \" + str(ProfitK))\n",
    "\n",
    "# Gross Capital Share (M2)\n",
    "s_K = stat.mean(df_focus.loc[1984:2000,\"ProfitY\"])/100\n",
    "print(\"s_K = \" + str(s_K))\n",
    "\n",
    "# Investment-capital ratio (M3)\n",
    "ik = stat.mean(df_focus.loc[1984:2000,\"ik\"])/100\n",
    "print(\"I/K = \" + str(ik))\n",
    "\n",
    "# Price-Dividend Ratio (M5)\n",
    "PD = stat.mean(df_focus.loc[1984:2000,\"PD\"])/100\n",
    "print(\"P/D = \" + str(PD))"
   ]
  },
  {
   "cell_type": "code",
   "execution_count": 23,
   "metadata": {},
   "outputs": [],
   "source": [
    "#Set system of equations\n",
    "def eq_system(parameters, g_L, g_Q, g_Z, ProfitK, s_K, ik, PD):\n",
    "    \n",
    "    alpha = parameters[0]\n",
    "    g_T = parameters[1]\n",
    "    delta = parameters[2]\n",
    "    r = parameters[3]\n",
    "    mu = parameters[4]\n",
    "    \n",
    "\n",
    "    eq_11 = (1+g_L)*((1+g_Z)**(1/(1-alpha)))*((1+g_Q)**(alpha/(1-alpha))) - (1+g_T)\n",
    "    eq_18 = delta + g_Q + g_T - ik\n",
    "    eq_23 = (1+g_T)/(r-g_T) - PD\n",
    "    eq_20 = (mu + alpha - 1)/mu - s_K\n",
    "    eq_27 = ((mu + alpha - 1)/alpha)*(r + delta + g_Q) - ProfitK\n",
    "\n",
    "    return [eq_11, eq_18, eq_23, eq_20, eq_27]"
   ]
  },
  {
   "cell_type": "markdown",
   "metadata": {},
   "source": [
    "> OBS: I Farhi og Gourios MATLAB-fil bruger de følgende ligning"
   ]
  },
  {
   "cell_type": "markdown",
   "metadata": {},
   "source": [
    "\\begin{align}\n",
    "1 + g_T = (1 + g_L )(1+ g_Z)^{\\frac{1}{1-\\alpha}}(1+ g_Q)^{\\frac{\\alpha}{1-\\alpha}} \\tag{eq. 11} \n",
    "\\end{align}"
   ]
  },
  {
   "cell_type": "code",
   "execution_count": 24,
   "metadata": {},
   "outputs": [
    {
     "name": "stdout",
     "output_type": "stream",
     "text": [
      "alpha er estimeret til 0.879\n",
      "g_T er estimeret til -0.027\n",
      "delta er estimeret til 0.126\n",
      "r er estimeret til 2.271\n",
      "mu er estimeret til 0.173\n",
      "\n",
      "alpha er estimeret til 0.879\n",
      "g_T er estimeret til -0.027\n",
      "delta er estimeret til 0.126\n",
      "r er estimeret til 2.271\n",
      "mu er estimeret til 0.173\n",
      "\n",
      "\n",
      "mu = 0.173\n",
      "delta = 0.126\n",
      "alpha = 0.879\n",
      "g_L = 1.171\n",
      "g_Z = 1.1\n",
      "g_Q = 1.769\n",
      "N_bar = 0.623\n"
     ]
    }
   ],
   "source": [
    "moments = (g_L, g_Q, g_Z, ProfitK, s_K, ik, PD)\n",
    "\n",
    "#From MATLAB:\n",
    "#alpha = 0.3, g_T = ?, delta = 4.0, r = ?, mu = 1.00\n",
    "\n",
    "guess1 = [0.2,0.1,0.2,0.4,0.2]\n",
    "guess2 = [0.3,0.04,0.03,0.06,0.06]\n",
    "guess3 = [0.2,0.04,0.03,0.05,0.08]\n",
    "\n",
    "solution1 = optimize.fsolve(eq_system, guess1, args=moments, full_output=0)\n",
    "solution2 = optimize.fsolve(eq_system, guess2, args=moments, full_output=0)\n",
    "#solution3 = optimize.fsolve(eq_system, guess3, args=moments, full_output=0)\n",
    "\n",
    "print(\"alpha er estimeret til \" + str(round(solution1[0],3)))\n",
    "print(\"g_T er estimeret til \" + str(round(solution1[1],3)))\n",
    "print(\"delta er estimeret til \" + str(round(solution1[2],3)))\n",
    "print(\"r er estimeret til \" + str(round(solution1[3],3)))\n",
    "print(\"mu er estimeret til \" + str(round(solution1[4],3)))\n",
    "print(\"\")\n",
    "\n",
    "print(\"alpha er estimeret til \" + str(round(solution2[0],3)))\n",
    "print(\"g_T er estimeret til \" + str(round(solution2[1],3)))\n",
    "print(\"delta er estimeret til \" + str(round(solution2[2],3)))\n",
    "print(\"r er estimeret til \" + str(round(solution2[3],3)))\n",
    "print(\"mu er estimeret til \" + str(round(solution2[4],3)))\n",
    "print(\"\")\n",
    "\n",
    "#print(\"alpha er estimeret til \" + str(round(solution3[0],3)))\n",
    "#print(\"g_T er estimeret til \" + str(round(solution3[1],3)))\n",
    "#print(\"delta er estimeret til \" + str(round(solution3[2],3)))\n",
    "#print(\"r er estimeret til \" + str(round(solution3[3],3)))\n",
    "#print(\"mu er estimeret til \" + str(round(solution3[4],3)))\n",
    "print(\"\")\n",
    "\n",
    "print(\"mu = \" + str(round(solution2[4],3)))\n",
    "print(\"delta = \" + str(round(solution1[2],3)))\n",
    "print(\"alpha = \" + str(round(solution2[0],3)))\n",
    "print(\"g_L = \" + str(round(g_L*100,3)))\n",
    "print(\"g_Z = \" + str(round(g_Z*100,3)))\n",
    "print(\"g_Q = \" + str(round(-g_Q*100,3)))\n",
    "print(\"N_bar = \" + str(round(N_bar,3)))"
   ]
  },
  {
   "cell_type": "markdown",
   "metadata": {},
   "source": [
    "![title](images/Estimates.png)"
   ]
  },
  {
   "cell_type": "markdown",
   "metadata": {},
   "source": [
    "### Risk Free Rate"
   ]
  },
  {
   "cell_type": "markdown",
   "metadata": {},
   "source": [
    "We may finally deduce the risk premium using data on the risk-free interest rate. This however requires further assumptions."
   ]
  },
  {
   "cell_type": "code",
   "execution_count": null,
   "metadata": {},
   "outputs": [],
   "source": [
    "#Intertemporal elasticity of substitution\n",
    "IES = 2\n",
    "\n",
    "# Rare disaster distribution (Chi = 15 pct.)\n",
    "e_b = 0.85\n",
    "\n",
    "# Risk aversion coefficient\n",
    "theta = 12"
   ]
  },
  {
   "cell_type": "code",
   "execution_count": null,
   "metadata": {},
   "outputs": [],
   "source": []
  }
 ],
 "metadata": {
  "kernelspec": {
   "display_name": "Python 3",
   "language": "python",
   "name": "python3"
  },
  "language_info": {
   "codemirror_mode": {
    "name": "ipython",
    "version": 3
   },
   "file_extension": ".py",
   "mimetype": "text/x-python",
   "name": "python",
   "nbconvert_exporter": "python",
   "pygments_lexer": "ipython3",
   "version": "3.7.3"
  }
 },
 "nbformat": 4,
 "nbformat_minor": 2
}
