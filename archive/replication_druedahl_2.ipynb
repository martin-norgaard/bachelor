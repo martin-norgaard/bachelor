{
 "cells": [
  {
   "cell_type": "markdown",
   "metadata": {},
   "source": [
    "# Setup"
   ]
  },
  {
   "cell_type": "code",
   "execution_count": 1,
   "metadata": {},
   "outputs": [],
   "source": [
    "import numpy as np\n",
    "import pandas as pd\n",
    "import scipy as sp\n",
    "from scipy import optimize\n",
    "import statistics as stat\n",
    "from IPython.display import display\n",
    "\n",
    "class par: None\n",
    "class moms: None\n",
    "    \n",
    "# from farhi and gourio\n",
    "class true: None\n",
    "true.beta = 0.961\n",
    "true.mu = 1.079\n",
    "true.delta = 0.02778\n",
    "true.alpha = 0.244\n",
    "true.g_Z = 0.01298\n",
    "true.r_star = np.nan\n",
    "true.g_T = np.nan\n",
    "true.p = 0.034"
   ]
  },
  {
   "cell_type": "markdown",
   "metadata": {},
   "source": [
    "## Settings and assumptions"
   ]
  },
  {
   "cell_type": "code",
   "execution_count": 2,
   "metadata": {},
   "outputs": [],
   "source": [
    "# a. shock size\n",
    "par.b = -np.log(1-0.15)\n",
    "\n",
    "# b. risk aversion coefficient\n",
    "par.theta = 12\n",
    "\n",
    "# c. IES, sigma = 1/IES\n",
    "par.sigma = 0.5"
   ]
  },
  {
   "cell_type": "markdown",
   "metadata": {},
   "source": [
    "# Load data"
   ]
  },
  {
   "cell_type": "code",
   "execution_count": 3,
   "metadata": {},
   "outputs": [
    {
     "name": "stdout",
     "output_type": "stream",
     "text": [
      "<class 'pandas.core.frame.DataFrame'>\n",
      "RangeIndex: 57 entries, 0 to 56\n",
      "Data columns (total 42 columns):\n",
      "year            57 non-null int64\n",
      "ProfitK         57 non-null float64\n",
      "ProfitY         57 non-null float64\n",
      "IY              57 non-null float64\n",
      "RF              57 non-null float64\n",
      "PE              57 non-null float64\n",
      "growthpop       57 non-null float64\n",
      "growthemp       57 non-null float64\n",
      "growthGDP       57 non-null float64\n",
      "priceinvt       57 non-null float64\n",
      "PD              57 non-null float64\n",
      "PEop            57 non-null float64\n",
      "growthTFP       57 non-null float64\n",
      "growthTFPADJ    57 non-null float64\n",
      "ERP             57 non-null float64\n",
      "KY              57 non-null float64\n",
      "ystar           57 non-null float64\n",
      "Drate           57 non-null float64\n",
      "ik              57 non-null float64\n",
      "LS              57 non-null float64\n",
      "CS              57 non-null float64\n",
      "PS              57 non-null float64\n",
      "SP              57 non-null float64\n",
      "ERPalt          57 non-null float64\n",
      "SPMU            57 non-null float64\n",
      "SPRISK          57 non-null float64\n",
      "Spread2         57 non-null float64\n",
      "gYN             57 non-null float64\n",
      "ER              57 non-null float64\n",
      "lev_net_mkt     33 non-null float64\n",
      "kstar           57 non-null float64\n",
      "vstar           57 non-null float64\n",
      "cstar           57 non-null float64\n",
      "xstar           57 non-null float64\n",
      "logystar        57 non-null float64\n",
      "logxstar        57 non-null float64\n",
      "logcstar        57 non-null float64\n",
      "EmpPop          57 non-null float64\n",
      "logystar2       57 non-null float64\n",
      "logxstar2       57 non-null float64\n",
      "logcstar2       57 non-null float64\n",
      "TobinQ          57 non-null int64\n",
      "dtypes: float64(40), int64(2)\n",
      "memory usage: 18.8 KB\n"
     ]
    },
    {
     "data": {
      "text/html": [
       "<div>\n",
       "<style scoped>\n",
       "    .dataframe tbody tr th:only-of-type {\n",
       "        vertical-align: middle;\n",
       "    }\n",
       "\n",
       "    .dataframe tbody tr th {\n",
       "        vertical-align: top;\n",
       "    }\n",
       "\n",
       "    .dataframe thead th {\n",
       "        text-align: right;\n",
       "    }\n",
       "</style>\n",
       "<table border=\"1\" class=\"dataframe\">\n",
       "  <thead>\n",
       "    <tr style=\"text-align: right;\">\n",
       "      <th></th>\n",
       "      <th>ProfitK</th>\n",
       "      <th>ProfitY</th>\n",
       "      <th>RF</th>\n",
       "      <th>growthpop</th>\n",
       "      <th>priceinvt</th>\n",
       "      <th>PD</th>\n",
       "      <th>growthTFP</th>\n",
       "      <th>ik</th>\n",
       "      <th>EmpPop</th>\n",
       "    </tr>\n",
       "    <tr>\n",
       "      <th>year</th>\n",
       "      <th></th>\n",
       "      <th></th>\n",
       "      <th></th>\n",
       "      <th></th>\n",
       "      <th></th>\n",
       "      <th></th>\n",
       "      <th></th>\n",
       "      <th></th>\n",
       "      <th></th>\n",
       "    </tr>\n",
       "  </thead>\n",
       "  <tbody>\n",
       "    <tr>\n",
       "      <th>1960</th>\n",
       "      <td>14.234645</td>\n",
       "      <td>29.143753</td>\n",
       "      <td>2.101667</td>\n",
       "      <td>1.646313</td>\n",
       "      <td>-1.321805</td>\n",
       "      <td>28.767187</td>\n",
       "      <td>0.647897</td>\n",
       "      <td>7.456101</td>\n",
       "      <td>56.108616</td>\n",
       "    </tr>\n",
       "    <tr>\n",
       "      <th>1961</th>\n",
       "      <td>14.418177</td>\n",
       "      <td>29.418518</td>\n",
       "      <td>1.855833</td>\n",
       "      <td>1.292520</td>\n",
       "      <td>-1.373270</td>\n",
       "      <td>33.813931</td>\n",
       "      <td>1.891988</td>\n",
       "      <td>7.261791</td>\n",
       "      <td>55.354179</td>\n",
       "    </tr>\n",
       "    <tr>\n",
       "      <th>1962</th>\n",
       "      <td>15.298585</td>\n",
       "      <td>30.143707</td>\n",
       "      <td>1.725833</td>\n",
       "      <td>1.157498</td>\n",
       "      <td>-1.162756</td>\n",
       "      <td>29.106068</td>\n",
       "      <td>3.314460</td>\n",
       "      <td>7.622490</td>\n",
       "      <td>55.513981</td>\n",
       "    </tr>\n",
       "    <tr>\n",
       "      <th>1963</th>\n",
       "      <td>16.091473</td>\n",
       "      <td>31.001640</td>\n",
       "      <td>2.081667</td>\n",
       "      <td>1.866188</td>\n",
       "      <td>-1.561601</td>\n",
       "      <td>30.914055</td>\n",
       "      <td>2.858746</td>\n",
       "      <td>7.922162</td>\n",
       "      <td>55.351719</td>\n",
       "    </tr>\n",
       "    <tr>\n",
       "      <th>1964</th>\n",
       "      <td>16.331043</td>\n",
       "      <td>31.335564</td>\n",
       "      <td>2.345833</td>\n",
       "      <td>1.675677</td>\n",
       "      <td>-0.907530</td>\n",
       "      <td>32.665569</td>\n",
       "      <td>2.761517</td>\n",
       "      <td>8.154409</td>\n",
       "      <td>55.670570</td>\n",
       "    </tr>\n",
       "  </tbody>\n",
       "</table>\n",
       "</div>"
      ],
      "text/plain": [
       "        ProfitK    ProfitY        RF  growthpop  priceinvt         PD  \\\n",
       "year                                                                    \n",
       "1960  14.234645  29.143753  2.101667   1.646313  -1.321805  28.767187   \n",
       "1961  14.418177  29.418518  1.855833   1.292520  -1.373270  33.813931   \n",
       "1962  15.298585  30.143707  1.725833   1.157498  -1.162756  29.106068   \n",
       "1963  16.091473  31.001640  2.081667   1.866188  -1.561601  30.914055   \n",
       "1964  16.331043  31.335564  2.345833   1.675677  -0.907530  32.665569   \n",
       "\n",
       "      growthTFP        ik     EmpPop  \n",
       "year                                  \n",
       "1960   0.647897  7.456101  56.108616  \n",
       "1961   1.891988  7.261791  55.354179  \n",
       "1962   3.314460  7.622490  55.513981  \n",
       "1963   2.858746  7.922162  55.351719  \n",
       "1964   2.761517  8.154409  55.670570  "
      ]
     },
     "metadata": {},
     "output_type": "display_data"
    },
    {
     "data": {
      "text/html": [
       "<div>\n",
       "<style scoped>\n",
       "    .dataframe tbody tr th:only-of-type {\n",
       "        vertical-align: middle;\n",
       "    }\n",
       "\n",
       "    .dataframe tbody tr th {\n",
       "        vertical-align: top;\n",
       "    }\n",
       "\n",
       "    .dataframe thead th {\n",
       "        text-align: right;\n",
       "    }\n",
       "</style>\n",
       "<table border=\"1\" class=\"dataframe\">\n",
       "  <thead>\n",
       "    <tr style=\"text-align: right;\">\n",
       "      <th></th>\n",
       "      <th>ProfitK</th>\n",
       "      <th>ProfitY</th>\n",
       "      <th>RF</th>\n",
       "      <th>growthpop</th>\n",
       "      <th>priceinvt</th>\n",
       "      <th>PD</th>\n",
       "      <th>growthTFP</th>\n",
       "      <th>ik</th>\n",
       "      <th>EmpPop</th>\n",
       "    </tr>\n",
       "  </thead>\n",
       "  <tbody>\n",
       "    <tr>\n",
       "      <th>count</th>\n",
       "      <td>57.000000</td>\n",
       "      <td>57.000000</td>\n",
       "      <td>57.000000</td>\n",
       "      <td>57.000000</td>\n",
       "      <td>57.000000</td>\n",
       "      <td>57.000000</td>\n",
       "      <td>57.000000</td>\n",
       "      <td>57.000000</td>\n",
       "      <td>57.000000</td>\n",
       "    </tr>\n",
       "    <tr>\n",
       "      <th>mean</th>\n",
       "      <td>14.346346</td>\n",
       "      <td>31.046356</td>\n",
       "      <td>1.414357</td>\n",
       "      <td>1.381947</td>\n",
       "      <td>-1.001414</td>\n",
       "      <td>38.333945</td>\n",
       "      <td>1.033962</td>\n",
       "      <td>7.749363</td>\n",
       "      <td>59.781546</td>\n",
       "    </tr>\n",
       "    <tr>\n",
       "      <th>std</th>\n",
       "      <td>1.269753</td>\n",
       "      <td>2.538903</td>\n",
       "      <td>1.995644</td>\n",
       "      <td>0.438917</td>\n",
       "      <td>1.296615</td>\n",
       "      <td>15.465343</td>\n",
       "      <td>1.618604</td>\n",
       "      <td>0.693920</td>\n",
       "      <td>2.719538</td>\n",
       "    </tr>\n",
       "    <tr>\n",
       "      <th>min</th>\n",
       "      <td>11.476599</td>\n",
       "      <td>27.352089</td>\n",
       "      <td>-2.533333</td>\n",
       "      <td>0.749057</td>\n",
       "      <td>-4.067451</td>\n",
       "      <td>18.496330</td>\n",
       "      <td>-3.801344</td>\n",
       "      <td>5.915066</td>\n",
       "      <td>55.351719</td>\n",
       "    </tr>\n",
       "    <tr>\n",
       "      <th>25%</th>\n",
       "      <td>13.559713</td>\n",
       "      <td>29.275795</td>\n",
       "      <td>-0.170000</td>\n",
       "      <td>1.022081</td>\n",
       "      <td>-1.778501</td>\n",
       "      <td>27.761936</td>\n",
       "      <td>0.119928</td>\n",
       "      <td>7.295365</td>\n",
       "      <td>57.774712</td>\n",
       "    </tr>\n",
       "    <tr>\n",
       "      <th>50%</th>\n",
       "      <td>14.230997</td>\n",
       "      <td>30.411072</td>\n",
       "      <td>1.451667</td>\n",
       "      <td>1.236426</td>\n",
       "      <td>-1.073029</td>\n",
       "      <td>33.334805</td>\n",
       "      <td>1.153324</td>\n",
       "      <td>7.883199</td>\n",
       "      <td>59.327110</td>\n",
       "    </tr>\n",
       "    <tr>\n",
       "      <th>75%</th>\n",
       "      <td>15.284401</td>\n",
       "      <td>31.860176</td>\n",
       "      <td>2.786667</td>\n",
       "      <td>1.675677</td>\n",
       "      <td>-0.097202</td>\n",
       "      <td>46.440563</td>\n",
       "      <td>2.176149</td>\n",
       "      <td>8.207948</td>\n",
       "      <td>62.339596</td>\n",
       "    </tr>\n",
       "    <tr>\n",
       "      <th>max</th>\n",
       "      <td>17.108320</td>\n",
       "      <td>36.831299</td>\n",
       "      <td>5.945833</td>\n",
       "      <td>2.749740</td>\n",
       "      <td>3.547138</td>\n",
       "      <td>89.555916</td>\n",
       "      <td>3.372487</td>\n",
       "      <td>9.171547</td>\n",
       "      <td>64.400581</td>\n",
       "    </tr>\n",
       "  </tbody>\n",
       "</table>\n",
       "</div>"
      ],
      "text/plain": [
       "         ProfitK    ProfitY         RF  growthpop  priceinvt         PD  \\\n",
       "count  57.000000  57.000000  57.000000  57.000000  57.000000  57.000000   \n",
       "mean   14.346346  31.046356   1.414357   1.381947  -1.001414  38.333945   \n",
       "std     1.269753   2.538903   1.995644   0.438917   1.296615  15.465343   \n",
       "min    11.476599  27.352089  -2.533333   0.749057  -4.067451  18.496330   \n",
       "25%    13.559713  29.275795  -0.170000   1.022081  -1.778501  27.761936   \n",
       "50%    14.230997  30.411072   1.451667   1.236426  -1.073029  33.334805   \n",
       "75%    15.284401  31.860176   2.786667   1.675677  -0.097202  46.440563   \n",
       "max    17.108320  36.831299   5.945833   2.749740   3.547138  89.555916   \n",
       "\n",
       "       growthTFP         ik     EmpPop  \n",
       "count  57.000000  57.000000  57.000000  \n",
       "mean    1.033962   7.749363  59.781546  \n",
       "std     1.618604   0.693920   2.719538  \n",
       "min    -3.801344   5.915066  55.351719  \n",
       "25%     0.119928   7.295365  57.774712  \n",
       "50%     1.153324   7.883199  59.327110  \n",
       "75%     2.176149   8.207948  62.339596  \n",
       "max     3.372487   9.171547  64.400581  "
      ]
     },
     "metadata": {},
     "output_type": "display_data"
    }
   ],
   "source": [
    "df = pd.read_csv(\"data/V3_timeseries__postrev_I1Y_19-Oct-2018.csv\")\n",
    "df.info()\n",
    "df = df[['year','ProfitK','ProfitY','RF', 'growthpop','priceinvt','PD','growthTFP','ik','EmpPop']]\n",
    "df = df.set_index('year')\n",
    "display(df.head())\n",
    "display(df.describe())"
   ]
  },
  {
   "cell_type": "markdown",
   "metadata": {},
   "source": [
    "# Moments"
   ]
  },
  {
   "cell_type": "code",
   "execution_count": 4,
   "metadata": {},
   "outputs": [
    {
     "name": "stdout",
     "output_type": "stream",
     "text": [
      "ProfitK    = 0.14012\n",
      "s_K        = 0.29887\n",
      "ik         = 0.08103\n",
      "PD         = 42.33588\n",
      "TFPgrowth  = 0.01100\n"
     ]
    }
   ],
   "source": [
    "moms.ProfitK = stat.mean(df.loc[1984:2000,\"ProfitK\"])/100\n",
    "moms.s_K = stat.mean(df.loc[1984:2000,\"ProfitY\"])/100\n",
    "moms.ik = stat.mean(df.loc[1984:2000,\"ik\"])/100\n",
    "moms.PD = stat.mean(df.loc[1984:2000,\"PD\"])\n",
    "moms.TFPgrowth = stat.mean(df.loc[1984:2000,\"growthTFP\"])/100\n",
    "moms.RF = stat.mean(df.loc[1984:2000,\"RF\"])/100\n",
    "\n",
    "for name in ['ProfitK','s_K','ik','PD','TFPgrowth']:\n",
    "    print(f'{name:10s} = {getattr(moms,name):.5f}')"
   ]
  },
  {
   "cell_type": "markdown",
   "metadata": {},
   "source": [
    "# Step 1\n",
    "\n",
    "Estimate $g_L$, $g_Q$ and $\\bar{N}$ directly from data"
   ]
  },
  {
   "cell_type": "code",
   "execution_count": 5,
   "metadata": {},
   "outputs": [
    {
     "name": "stdout",
     "output_type": "stream",
     "text": [
      "g_L   = 0.01171\n",
      "g_Q   = 0.01769\n",
      "N_bar = 0.62344\n"
     ]
    }
   ],
   "source": [
    "par.g_L = stat.mean(df.loc[1984:2000,\"growthpop\"])/100\n",
    "par.g_Q = -stat.mean(df.loc[1984:2000,\"priceinvt\"])/100 # note: negativ value used\n",
    "par.N_bar = stat.mean(df.loc[1984:2000,\"EmpPop\"])/100\n",
    "\n",
    "for name in ['g_L','g_Q','N_bar']:\n",
    "    print(f'{name:5s} = {getattr(par,name):.5f}')"
   ]
  },
  {
   "cell_type": "markdown",
   "metadata": {},
   "source": [
    "# Step 2"
   ]
  },
  {
   "cell_type": "markdown",
   "metadata": {},
   "source": [
    "Estimate $\\mu$, $\\alpha$, $\\delta$, $g_z$ by solving equation system"
   ]
  },
  {
   "cell_type": "code",
   "execution_count": 6,
   "metadata": {},
   "outputs": [],
   "source": [
    "def eq_footnote_15(par,moms):\n",
    "     return moms.TFPgrowth - (par.g_T-(1-moms.s_K)*par.g_L-moms.s_K*(par.g_T+par.g_Q))\n",
    "\n",
    "def eq_11(par,moms):\n",
    "    return (1+par.g_T) - (1+par.g_L)*(1+par.g_Z)**(1/(1-par.alpha))*(1+par.g_Q)**(par.alpha/(1-par.alpha))\n",
    "\n",
    "def eq_15(par,moms):\n",
    "\n",
    "    qstar = 1 # normalization\n",
    "    beta_star = 1/(1+par.r_star)\n",
    "    \n",
    "    temp = (1+par.g_Q)/beta_star-(1-par.delta)\n",
    "    kstar = (temp*par.mu/(par.alpha*qstar))**(1/(par.alpha-1))*par.N_bar\n",
    "    ystar = kstar**par.alpha*par.N_bar**(1-par.alpha)\n",
    "    pistar = (par.mu+par.alpha-1)/par.mu*ystar\n",
    "\n",
    "    return moms.ProfitK-pistar/(kstar/qstar) \n",
    "    \n",
    "def eq_18(par,moms):\n",
    "    return (1+par.g_Q)*(1+par.g_T)-(1-par.delta) - moms.ik\n",
    "\n",
    "def eq_20(par,moms):\n",
    "    return moms.s_K - (par.mu+par.alpha-1)/(par.mu)\n",
    "\n",
    "def eq_23(par,moms):\n",
    "    beta_star = 1/(1+par.r_star)\n",
    "    return moms.PD - beta_star*(1+par.g_T)/(1-beta_star*(1+par.g_T))\n",
    "\n",
    "#def eq_27(par,moms):\n",
    "#    return moms.ProfitK - (par.mu+par.alpha-1)/par.alpha*(par.r_star+par.delta+par.g_Q)"
   ]
  },
  {
   "cell_type": "code",
   "execution_count": 7,
   "metadata": {},
   "outputs": [],
   "source": [
    "def set_parameters(par,x):\n",
    "    \n",
    "    for name,value in zip(par.names,x):\n",
    "        setattr(par,name,value)\n",
    "    \n",
    "def set_x(par):\n",
    "    \n",
    "    x = np.zeros(len(par.names))\n",
    "    for i,name in enumerate(par.names):\n",
    "        x[i] = getattr(par,name)\n",
    "        \n",
    "    return x\n",
    "\n",
    "def eq_system(x,par,moms):\n",
    "    \n",
    "    # a. set parameters\n",
    "    set_parameters(par,x)            \n",
    "    \n",
    "    # c. evaluate equations\n",
    "    out = []\n",
    "    out.append(eq_footnote_15(par,moms))\n",
    "    out.append(eq_11(par,moms))\n",
    "    out.append(eq_15(par,moms))          \n",
    "    out.append(eq_18(par,moms))\n",
    "    out.append(eq_20(par,moms))\n",
    "    out.append(eq_23(par,moms))\n",
    "\n",
    "    return out"
   ]
  },
  {
   "cell_type": "code",
   "execution_count": 8,
   "metadata": {},
   "outputs": [
    {
     "name": "stdout",
     "output_type": "stream",
     "text": [
      "g_Z        = 0.01298405 [FH: 0.0130]\n",
      "g_T        = 0.03494270 [FH: nan]\n",
      "delta      = 0.02777669 [FH: 0.0278]\n",
      "alpha      = 0.24368407 [FH: 0.2440]\n",
      "r_star     = 0.05938870 [FH: nan]\n",
      "mu         = 1.07871675 [FH: 1.0790]\n"
     ]
    }
   ],
   "source": [
    "# a. parameters to estimate\n",
    "par.names = ['g_Z','g_T','delta','alpha','r_star','mu']\n",
    "\n",
    "# b. guess\n",
    "par.mu = 1.01\n",
    "par.delta = 0.025\n",
    "par.alpha = 0.25\n",
    "par.g_Z = 0.02\n",
    "par.r_star = 0.05\n",
    "par.g_T = 0.04\n",
    "x = set_x(par)\n",
    "\n",
    "# c. solve\n",
    "solution = optimize.fsolve(eq_system, x, args=(par,moms), full_output=0)\n",
    "set_parameters(par,solution)\n",
    "\n",
    "# d. print result\n",
    "for name in par.names:\n",
    "    print(f'{name:10} = {getattr(par,name):.8f} [FH: {getattr(true,name):.4f}]')        "
   ]
  },
  {
   "cell_type": "markdown",
   "metadata": {},
   "source": [
    "# Step 3"
   ]
  },
  {
   "cell_type": "markdown",
   "metadata": {},
   "source": [
    "Estimate $\\beta$ and $p$"
   ]
  },
  {
   "cell_type": "code",
   "execution_count": 9,
   "metadata": {},
   "outputs": [],
   "source": [
    "def update_misc(par):\n",
    "    \n",
    "    par.beta_star = 1/(1+par.r_star)\n",
    "    par.bh = -np.log((2-np.exp(-par.b)))\n",
    "    par.g_PC = (1+par.g_T)/(1+par.g_L)-1\n",
    "    "
   ]
  },
  {
   "cell_type": "code",
   "execution_count": 10,
   "metadata": {},
   "outputs": [],
   "source": [
    "def find_p(p,par,moms):\n",
    "        \n",
    "    update_misc(par)        \n",
    "    MOM2 = ((1-2*p)+p*np.exp(-par.bh*(1-par.theta)) + p*np.exp(-par.b*(1-par.theta)))\n",
    "    MOM3 = ((1-2*p)+p*np.exp(-par.bh*(-par.theta)) + p*np.exp(-par.b*(-par.theta))) \n",
    "    \n",
    "    return moms.RF - (MOM2/(par.beta_star*MOM3)-1)"
   ]
  },
  {
   "cell_type": "markdown",
   "metadata": {},
   "source": [
    "**Find p:**"
   ]
  },
  {
   "cell_type": "code",
   "execution_count": 11,
   "metadata": {},
   "outputs": [],
   "source": [
    "par.p = optimize.fsolve(find_p, 0.02, args=(par,moms), full_output=0)[0]\n",
    "update_misc(par)"
   ]
  },
  {
   "cell_type": "markdown",
   "metadata": {},
   "source": [
    "**Find $\\beta$:**"
   ]
  },
  {
   "cell_type": "code",
   "execution_count": 12,
   "metadata": {},
   "outputs": [],
   "source": [
    "MOM =  ((1-2*par.p)+par.p*np.exp(-par.bh*(1-par.theta)) + par.p*np.exp(-par.b*(1-par.theta)))**((1-par.sigma)/(1-par.theta)) \n",
    "par.beta = par.beta_star/((1+par.g_PC)**(-par.sigma)*MOM);"
   ]
  },
  {
   "cell_type": "code",
   "execution_count": 13,
   "metadata": {},
   "outputs": [
    {
     "name": "stdout",
     "output_type": "stream",
     "text": [
      "beta       = 0.960540 [FH: 0.961000]\n",
      "p          = 0.034146 [FH: 0.034000]\n"
     ]
    }
   ],
   "source": [
    "for name in ['beta','p']:\n",
    "   print(f'{name:10} = {getattr(par,name):4f} [FH: {getattr(true,name):4f}]')"
   ]
  }
 ],
 "metadata": {
  "kernelspec": {
   "display_name": "Python 3",
   "language": "python",
   "name": "python3"
  },
  "language_info": {
   "codemirror_mode": {
    "name": "ipython",
    "version": 3
   },
   "file_extension": ".py",
   "mimetype": "text/x-python",
   "name": "python",
   "nbconvert_exporter": "python",
   "pygments_lexer": "ipython3",
   "version": "3.7.3"
  }
 },
 "nbformat": 4,
 "nbformat_minor": 2
}
